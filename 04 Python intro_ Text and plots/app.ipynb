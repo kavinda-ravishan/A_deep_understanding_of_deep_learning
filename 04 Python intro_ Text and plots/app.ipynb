{
 "cells": [
  {
   "cell_type": "markdown",
   "source": [
    "---\r\n",
    "# **Printing and string interpolation**\r\n",
    "---"
   ],
   "metadata": {}
  },
  {
   "cell_type": "code",
   "execution_count": 28,
   "source": [
    "num = 11.7531\r\n",
    "sng = 'celler doors'"
   ],
   "outputs": [],
   "metadata": {}
  },
  {
   "cell_type": "code",
   "execution_count": 29,
   "source": [
    "print('I would like to have '+ str(num)+ ' ' + sng+'.')"
   ],
   "outputs": [
    {
     "output_type": "stream",
     "name": "stdout",
     "text": [
      "I would like to have 11.7531 celler doors.\n"
     ]
    }
   ],
   "metadata": {}
  },
  {
   "cell_type": "code",
   "execution_count": 30,
   "source": [
    "print('I would like to have %g %s.' %(num, sng))\r\n",
    "print('I would like to have %i %s.' %(num, sng))\r\n",
    "print('I would like to have %s %s.' %(num, sng))"
   ],
   "outputs": [
    {
     "output_type": "stream",
     "name": "stdout",
     "text": [
      "I would like to have 11.7531 celler doors.\n",
      "I would like to have 11 celler doors.\n",
      "I would like to have 11.7531 celler doors.\n"
     ]
    }
   ],
   "metadata": {}
  },
  {
   "cell_type": "code",
   "execution_count": 31,
   "source": [
    "print('I would like to have %.0f %s.' %(num, sng))\r\n",
    "print('I would like to have %.1f %s.' %(num, sng))\r\n",
    "print('I would like to have %.2f %s.' %(num, sng))\r\n",
    "print('I would like to have %f %s.' %(num, sng))"
   ],
   "outputs": [
    {
     "output_type": "stream",
     "name": "stdout",
     "text": [
      "I would like to have 12 celler doors.\n",
      "I would like to have 11.8 celler doors.\n",
      "I would like to have 11.75 celler doors.\n",
      "I would like to have 11.753100 celler doors.\n"
     ]
    }
   ],
   "metadata": {}
  },
  {
   "cell_type": "code",
   "execution_count": 32,
   "source": [
    "print('I would like to have %5.1f %s.' %(num, sng))\r\n",
    "print('I would like to have %10.1f %s.' %(num, sng))\r\n",
    "print('I would like to have %15.1f %s.' %(num, sng))"
   ],
   "outputs": [
    {
     "output_type": "stream",
     "name": "stdout",
     "text": [
      "I would like to have  11.8 celler doors.\n",
      "I would like to have       11.8 celler doors.\n",
      "I would like to have            11.8 celler doors.\n"
     ]
    }
   ],
   "metadata": {}
  },
  {
   "cell_type": "code",
   "execution_count": 39,
   "source": [
    "print(f'I would like to have {num} {sng}.')\r\n",
    "print(f'I would like to have {num:10.2f} {sng}.')"
   ],
   "outputs": [
    {
     "output_type": "stream",
     "name": "stdout",
     "text": [
      "I would like to have 11.7531 celler doors.\n",
      "I would like to have      11.75 celler doors.\n"
     ]
    }
   ],
   "metadata": {}
  },
  {
   "cell_type": "code",
   "execution_count": 41,
   "source": [
    "print('I would like to have {n} {s}.'.format(n=num, s=sng))"
   ],
   "outputs": [
    {
     "output_type": "stream",
     "name": "stdout",
     "text": [
      "I would like to have 11.7531 celler doors.\n"
     ]
    }
   ],
   "metadata": {}
  },
  {
   "cell_type": "markdown",
   "source": [
    "## Exercise"
   ],
   "metadata": {}
  },
  {
   "cell_type": "markdown",
   "source": [
    "### My solution"
   ],
   "metadata": {}
  },
  {
   "cell_type": "code",
   "execution_count": 61,
   "source": [
    "for i in range(1, 27):\r\n",
    "    ordind = ''\r\n",
    "    if i%10 == 1: ordind = 'st'\r\n",
    "    elif i%10 == 2: ordind = 'nd'\r\n",
    "    elif i%10 == 3: ordind = 'rd'\r\n",
    "    else: ordind = 'th'\r\n",
    "\r\n",
    "    if i%100 in [11, 12, 13]: ordind = 'th'\r\n",
    "\r\n",
    "    print(f'{chr(96+i)} is the {i}{ordind} letter.')"
   ],
   "outputs": [
    {
     "output_type": "stream",
     "name": "stdout",
     "text": [
      "a is the 1st letter.\n",
      "b is the 2nd letter.\n",
      "c is the 3rd letter.\n",
      "d is the 4th letter.\n",
      "e is the 5th letter.\n",
      "f is the 6th letter.\n",
      "g is the 7th letter.\n",
      "h is the 8th letter.\n",
      "i is the 9th letter.\n",
      "j is the 10th letter.\n",
      "k is the 11th letter.\n",
      "l is the 12th letter.\n",
      "m is the 13th letter.\n",
      "n is the 14th letter.\n",
      "o is the 15th letter.\n",
      "p is the 16th letter.\n",
      "q is the 17th letter.\n",
      "r is the 18th letter.\n",
      "s is the 19th letter.\n",
      "t is the 20th letter.\n",
      "u is the 21st letter.\n",
      "v is the 22nd letter.\n",
      "w is the 23rd letter.\n",
      "x is the 24th letter.\n",
      "y is the 25th letter.\n",
      "z is the 26th letter.\n"
     ]
    }
   ],
   "metadata": {}
  },
  {
   "cell_type": "markdown",
   "source": [
    "### Course solutions"
   ],
   "metadata": {}
  },
  {
   "cell_type": "code",
   "execution_count": 59,
   "source": [
    "import string"
   ],
   "outputs": [],
   "metadata": {}
  },
  {
   "cell_type": "code",
   "execution_count": 60,
   "source": [
    "letters = string.ascii_lowercase\r\n",
    "letters"
   ],
   "outputs": [
    {
     "output_type": "execute_result",
     "data": {
      "text/plain": [
       "'abcdefghijklmnopqrstuvwxyz'"
      ]
     },
     "metadata": {},
     "execution_count": 60
    }
   ],
   "metadata": {}
  },
  {
   "cell_type": "code",
   "execution_count": null,
   "source": [],
   "outputs": [],
   "metadata": {}
  }
 ],
 "metadata": {
  "orig_nbformat": 4,
  "language_info": {
   "name": "python",
   "version": "3.8.5",
   "mimetype": "text/x-python",
   "codemirror_mode": {
    "name": "ipython",
    "version": 3
   },
   "pygments_lexer": "ipython3",
   "nbconvert_exporter": "python",
   "file_extension": ".py"
  },
  "kernelspec": {
   "name": "python3",
   "display_name": "Python 3.8.5 64-bit ('base': conda)"
  },
  "interpreter": {
   "hash": "293c111297a61481508202fcd690d673b0775ece2d2d867b62b8842b676a9a30"
  }
 },
 "nbformat": 4,
 "nbformat_minor": 2
}