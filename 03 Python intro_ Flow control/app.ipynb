{
 "cells": [
  {
   "cell_type": "markdown",
   "source": [
    "---\r\n",
    "# ***If-else statements, part 1***\r\n",
    "---"
   ],
   "metadata": {}
  },
  {
   "cell_type": "code",
   "execution_count": 9,
   "source": [
    "if True:\r\n",
    "    print('This is true')"
   ],
   "outputs": [
    {
     "output_type": "stream",
     "name": "stdout",
     "text": [
      "This is true\n"
     ]
    }
   ],
   "metadata": {}
  },
  {
   "cell_type": "code",
   "execution_count": 10,
   "source": [
    "x = 4\r\n",
    "\r\n",
    "if x == 4:\r\n",
    "    print('Value is 4')"
   ],
   "outputs": [
    {
     "output_type": "stream",
     "name": "stdout",
     "text": [
      "Value is 4\n"
     ]
    }
   ],
   "metadata": {}
  },
  {
   "cell_type": "code",
   "execution_count": 12,
   "source": [
    "if 'kavinda':\r\n",
    "    print('kavinda')"
   ],
   "outputs": [
    {
     "output_type": "stream",
     "name": "stdout",
     "text": [
      "kavinda\n"
     ]
    }
   ],
   "metadata": {}
  },
  {
   "cell_type": "code",
   "execution_count": 13,
   "source": [
    "if '':\r\n",
    "    print('If')\r\n",
    "else:\r\n",
    "    print('Else')"
   ],
   "outputs": [
    {
     "output_type": "stream",
     "name": "stdout",
     "text": [
      "Else\n"
     ]
    }
   ],
   "metadata": {}
  },
  {
   "cell_type": "code",
   "execution_count": 14,
   "source": [
    "import numpy as np "
   ],
   "outputs": [],
   "metadata": {}
  },
  {
   "cell_type": "code",
   "execution_count": 24,
   "source": [
    "r = np.random.randn()\r\n",
    "\r\n",
    "if r > 0:\r\n",
    "    outcome = 'positive'\r\n",
    "else:\r\n",
    "    outcome = 'negative'\r\n",
    "\r\n",
    "print('The number is ' + outcome)"
   ],
   "outputs": [
    {
     "output_type": "stream",
     "name": "stdout",
     "text": [
      "The number is negative\n"
     ]
    }
   ],
   "metadata": {}
  },
  {
   "cell_type": "code",
   "execution_count": 57,
   "source": [
    "r = [ 1, 3, 7, 9]\r\n",
    "\r\n",
    "def fun(r):\r\n",
    "    if r == 1:\r\n",
    "        print('r == 1')\r\n",
    "    elif r < 5:\r\n",
    "        print('r < 5')\r\n",
    "    elif r < 9:\r\n",
    "        print('r < 9')\r\n",
    "    else:\r\n",
    "        print('r == 9')\r\n",
    "\r\n",
    "    print(r)"
   ],
   "outputs": [],
   "metadata": {}
  },
  {
   "cell_type": "code",
   "execution_count": 58,
   "source": [
    "fun(r[0])\r\n",
    "fun(r[1])\r\n",
    "fun(r[2])\r\n",
    "fun(r[3])"
   ],
   "outputs": [
    {
     "output_type": "stream",
     "name": "stdout",
     "text": [
      "r == 1\n",
      "1\n",
      "r < 5\n",
      "3\n",
      "r < 9\n",
      "7\n",
      "r == 9\n",
      "9\n"
     ]
    }
   ],
   "metadata": {}
  },
  {
   "cell_type": "markdown",
   "source": [
    "---\r\n",
    "# ***If-else statements, part 2***\r\n",
    "---"
   ],
   "metadata": {}
  },
  {
   "cell_type": "code",
   "execution_count": 3,
   "source": [
    "import numpy as np"
   ],
   "outputs": [],
   "metadata": {}
  },
  {
   "cell_type": "code",
   "execution_count": 19,
   "source": [
    "x = np.random.randn()\r\n",
    "\r\n",
    "if x > 0 : print('x is positive')\r\n",
    "else : print('x is negative')\r\n",
    "\r\n",
    "print('x is positive') if x > 0 else  print('x is negative')"
   ],
   "outputs": [
    {
     "output_type": "stream",
     "name": "stdout",
     "text": [
      "x is positive\n",
      "x is positive\n"
     ]
    }
   ],
   "metadata": {}
  },
  {
   "cell_type": "code",
   "execution_count": 22,
   "source": [
    "'A'.lower(), 'a'.upper()"
   ],
   "outputs": [
    {
     "output_type": "execute_result",
     "data": {
      "text/plain": [
       "('a', 'A')"
      ]
     },
     "metadata": {},
     "execution_count": 22
    }
   ],
   "metadata": {}
  },
  {
   "cell_type": "code",
   "execution_count": 23,
   "source": [
    "# conjunction conditionals\r\n",
    "\r\n",
    "if 1<3 and 4==5:\r\n",
    "    print('Both conditionals are True.')\r\n",
    "else:\r\n",
    "    print('At least one conditional is false.')"
   ],
   "outputs": [
    {
     "output_type": "stream",
     "name": "stdout",
     "text": [
      "At least one conditional is false.\n"
     ]
    }
   ],
   "metadata": {}
  },
  {
   "cell_type": "markdown",
   "source": [
    "## Exercise"
   ],
   "metadata": {}
  },
  {
   "cell_type": "code",
   "execution_count": 41,
   "source": [
    "x = int(2)\r\n",
    "\r\n"
   ],
   "outputs": [
    {
     "output_type": "execute_result",
     "data": {
      "text/plain": [
       "False"
      ]
     },
     "metadata": {},
     "execution_count": 41
    }
   ],
   "metadata": {}
  },
  {
   "cell_type": "code",
   "execution_count": 75,
   "source": [
    "def dot(v1, v2):\r\n",
    "    if not ( isinstance(v1, np.ndarray) and isinstance(v2, np.ndarray) ):\r\n",
    "        raise Exception('Inputs must be numpy arrays')\r\n",
    "    elif not len(v1) == len(v2):\r\n",
    "        raise Exception('v1 or v2 not have smae shape')\r\n",
    "    \r\n",
    "    return np.sum(v1*v2)"
   ],
   "outputs": [],
   "metadata": {}
  },
  {
   "cell_type": "code",
   "execution_count": 81,
   "source": [
    "v1 = np.array([1, 2, 3])\r\n",
    "v2 = np.array([1, 2, 3])\r\n",
    "dot(v1, v2)"
   ],
   "outputs": [
    {
     "output_type": "execute_result",
     "data": {
      "text/plain": [
       "14"
      ]
     },
     "metadata": {},
     "execution_count": 81
    }
   ],
   "metadata": {}
  },
  {
   "cell_type": "markdown",
   "source": [
    "---\r\n",
    "# ***For loops***\r\n",
    "---"
   ],
   "metadata": {}
  },
  {
   "cell_type": "code",
   "execution_count": 11,
   "source": [
    "for i in range(3, 6):\r\n",
    "    print(i, i**2)"
   ],
   "outputs": [
    {
     "output_type": "stream",
     "name": "stdout",
     "text": [
      "3 9\n",
      "4 16\n",
      "5 25\n"
     ]
    }
   ],
   "metadata": {}
  },
  {
   "cell_type": "code",
   "execution_count": 8,
   "source": [
    "import numpy as np"
   ],
   "outputs": [],
   "metadata": {}
  },
  {
   "cell_type": "code",
   "execution_count": 10,
   "source": [
    "numbers = np.linspace(3, 17.1, 22)"
   ],
   "outputs": [],
   "metadata": {}
  },
  {
   "cell_type": "code",
   "execution_count": 15,
   "source": [
    "for i in range(len(numbers)):\r\n",
    "    print(numbers[i], end=', ')"
   ],
   "outputs": [
    {
     "output_type": "stream",
     "name": "stdout",
     "text": [
      "3.0, 3.6714285714285717, 4.342857142857143, 5.014285714285714, 5.685714285714286, 6.357142857142858, 7.0285714285714285, 7.7, 8.371428571428572, 9.042857142857144, 9.714285714285715, 10.385714285714286, 11.057142857142857, 11.72857142857143, 12.4, 13.071428571428573, 13.742857142857144, 14.414285714285715, 15.085714285714287, 15.757142857142858, 16.42857142857143, 17.1, "
     ]
    }
   ],
   "metadata": {}
  },
  {
   "cell_type": "code",
   "execution_count": 17,
   "source": [
    "for i in numbers:\r\n",
    "    print(i, end=', ')"
   ],
   "outputs": [
    {
     "output_type": "stream",
     "name": "stdout",
     "text": [
      "3.0, 3.6714285714285717, 4.342857142857143, 5.014285714285714, 5.685714285714286, 6.357142857142858, 7.0285714285714285, 7.7, 8.371428571428572, 9.042857142857144, 9.714285714285715, 10.385714285714286, 11.057142857142857, 11.72857142857143, 12.4, 13.071428571428573, 13.742857142857144, 14.414285714285715, 15.085714285714287, 15.757142857142858, 16.42857142857143, 17.1, "
     ]
    }
   ],
   "metadata": {}
  },
  {
   "cell_type": "code",
   "execution_count": 18,
   "source": [
    "for i in range(5):\r\n",
    "    if i%2 == 0:\r\n",
    "        print(f'{i} is even number.')\r\n",
    "    else:\r\n",
    "        print(f'{i} is odd number.')"
   ],
   "outputs": [
    {
     "output_type": "stream",
     "name": "stdout",
     "text": [
      "0 is even number.\n",
      "1 is odd number.\n",
      "2 is even number.\n",
      "3 is odd number.\n",
      "4 is even number.\n"
     ]
    }
   ],
   "metadata": {}
  },
  {
   "cell_type": "markdown",
   "source": [
    "## Exercise"
   ],
   "metadata": {}
  },
  {
   "cell_type": "markdown",
   "source": [
    "`fibonacci series : [0, 1, 1, 2, 3, ...] (some of previous two numbers)`"
   ],
   "metadata": {}
  },
  {
   "cell_type": "code",
   "execution_count": 39,
   "source": [
    "def FibonacciSeries(i, n1=0, n2=1):\r\n",
    "    series = [n1, n2]\r\n",
    "\r\n",
    "    for i in range(i-2):\r\n",
    "        series.append( sum(series[-2:]) )\r\n",
    "    \r\n",
    "    return series"
   ],
   "outputs": [],
   "metadata": {}
  },
  {
   "cell_type": "code",
   "execution_count": 40,
   "source": [
    "FibonacciSeries(10)"
   ],
   "outputs": [
    {
     "output_type": "execute_result",
     "data": {
      "text/plain": [
       "[0, 1, 1, 2, 3, 5, 8, 13, 21, 34]"
      ]
     },
     "metadata": {},
     "execution_count": 40
    }
   ],
   "metadata": {}
  }
 ],
 "metadata": {
  "orig_nbformat": 4,
  "language_info": {
   "name": "python",
   "version": "3.8.5",
   "mimetype": "text/x-python",
   "codemirror_mode": {
    "name": "ipython",
    "version": 3
   },
   "pygments_lexer": "ipython3",
   "nbconvert_exporter": "python",
   "file_extension": ".py"
  },
  "kernelspec": {
   "name": "python3",
   "display_name": "Python 3.8.5 64-bit ('base': conda)"
  },
  "interpreter": {
   "hash": "293c111297a61481508202fcd690d673b0775ece2d2d867b62b8842b676a9a30"
  }
 },
 "nbformat": 4,
 "nbformat_minor": 2
}