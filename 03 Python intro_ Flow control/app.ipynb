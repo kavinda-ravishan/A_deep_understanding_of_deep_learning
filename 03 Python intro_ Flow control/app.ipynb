{
 "cells": [
  {
   "cell_type": "markdown",
   "source": [
    "---\r\n",
    "# ***If-else statements***\r\n",
    "---"
   ],
   "metadata": {}
  },
  {
   "cell_type": "code",
   "execution_count": 9,
   "source": [
    "if True:\r\n",
    "    print('This is true')"
   ],
   "outputs": [
    {
     "output_type": "stream",
     "name": "stdout",
     "text": [
      "This is true\n"
     ]
    }
   ],
   "metadata": {}
  },
  {
   "cell_type": "code",
   "execution_count": 10,
   "source": [
    "x = 4\r\n",
    "\r\n",
    "if x == 4:\r\n",
    "    print('Value is 4')"
   ],
   "outputs": [
    {
     "output_type": "stream",
     "name": "stdout",
     "text": [
      "Value is 4\n"
     ]
    }
   ],
   "metadata": {}
  },
  {
   "cell_type": "code",
   "execution_count": 12,
   "source": [
    "if 'kavinda':\r\n",
    "    print('kavinda')"
   ],
   "outputs": [
    {
     "output_type": "stream",
     "name": "stdout",
     "text": [
      "kavinda\n"
     ]
    }
   ],
   "metadata": {}
  },
  {
   "cell_type": "code",
   "execution_count": 13,
   "source": [
    "if '':\r\n",
    "    print('If')\r\n",
    "else:\r\n",
    "    print('Else')"
   ],
   "outputs": [
    {
     "output_type": "stream",
     "name": "stdout",
     "text": [
      "Else\n"
     ]
    }
   ],
   "metadata": {}
  },
  {
   "cell_type": "code",
   "execution_count": 14,
   "source": [
    "import numpy as np "
   ],
   "outputs": [],
   "metadata": {}
  },
  {
   "cell_type": "code",
   "execution_count": 24,
   "source": [
    "r = np.random.randn()\r\n",
    "\r\n",
    "if r > 0:\r\n",
    "    outcome = 'positive'\r\n",
    "else:\r\n",
    "    outcome = 'negative'\r\n",
    "\r\n",
    "print('The number is ' + outcome)"
   ],
   "outputs": [
    {
     "output_type": "stream",
     "name": "stdout",
     "text": [
      "The number is negative\n"
     ]
    }
   ],
   "metadata": {}
  },
  {
   "cell_type": "code",
   "execution_count": 57,
   "source": [
    "r = [ 1, 3, 7, 9]\r\n",
    "\r\n",
    "def fun(r):\r\n",
    "    if r == 1:\r\n",
    "        print('r == 1')\r\n",
    "    elif r < 5:\r\n",
    "        print('r < 5')\r\n",
    "    elif r < 9:\r\n",
    "        print('r < 9')\r\n",
    "    else:\r\n",
    "        print('r == 9')\r\n",
    "\r\n",
    "    print(r)"
   ],
   "outputs": [],
   "metadata": {}
  },
  {
   "cell_type": "code",
   "execution_count": 58,
   "source": [
    "fun(r[0])\r\n",
    "fun(r[1])\r\n",
    "fun(r[2])\r\n",
    "fun(r[3])"
   ],
   "outputs": [
    {
     "output_type": "stream",
     "name": "stdout",
     "text": [
      "r == 1\n",
      "1\n",
      "r < 5\n",
      "3\n",
      "r < 9\n",
      "7\n",
      "r == 9\n",
      "9\n"
     ]
    }
   ],
   "metadata": {}
  },
  {
   "cell_type": "code",
   "execution_count": null,
   "source": [],
   "outputs": [],
   "metadata": {}
  }
 ],
 "metadata": {
  "orig_nbformat": 4,
  "language_info": {
   "name": "python",
   "version": "3.8.5",
   "mimetype": "text/x-python",
   "codemirror_mode": {
    "name": "ipython",
    "version": 3
   },
   "pygments_lexer": "ipython3",
   "nbconvert_exporter": "python",
   "file_extension": ".py"
  },
  "kernelspec": {
   "name": "python3",
   "display_name": "Python 3.8.5 64-bit"
  },
  "interpreter": {
   "hash": "293c111297a61481508202fcd690d673b0775ece2d2d867b62b8842b676a9a30"
  }
 },
 "nbformat": 4,
 "nbformat_minor": 2
}