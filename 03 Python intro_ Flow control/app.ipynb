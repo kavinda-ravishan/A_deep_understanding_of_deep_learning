{
 "cells": [
  {
   "cell_type": "markdown",
   "source": [
    "---\r\n",
    "# ***If-else statements, part 1***\r\n",
    "---"
   ],
   "metadata": {}
  },
  {
   "cell_type": "code",
   "execution_count": 9,
   "source": [
    "if True:\r\n",
    "    print('This is true')"
   ],
   "outputs": [
    {
     "output_type": "stream",
     "name": "stdout",
     "text": [
      "This is true\n"
     ]
    }
   ],
   "metadata": {}
  },
  {
   "cell_type": "code",
   "execution_count": 10,
   "source": [
    "x = 4\r\n",
    "\r\n",
    "if x == 4:\r\n",
    "    print('Value is 4')"
   ],
   "outputs": [
    {
     "output_type": "stream",
     "name": "stdout",
     "text": [
      "Value is 4\n"
     ]
    }
   ],
   "metadata": {}
  },
  {
   "cell_type": "code",
   "execution_count": 12,
   "source": [
    "if 'kavinda':\r\n",
    "    print('kavinda')"
   ],
   "outputs": [
    {
     "output_type": "stream",
     "name": "stdout",
     "text": [
      "kavinda\n"
     ]
    }
   ],
   "metadata": {}
  },
  {
   "cell_type": "code",
   "execution_count": 13,
   "source": [
    "if '':\r\n",
    "    print('If')\r\n",
    "else:\r\n",
    "    print('Else')"
   ],
   "outputs": [
    {
     "output_type": "stream",
     "name": "stdout",
     "text": [
      "Else\n"
     ]
    }
   ],
   "metadata": {}
  },
  {
   "cell_type": "code",
   "execution_count": 14,
   "source": [
    "import numpy as np "
   ],
   "outputs": [],
   "metadata": {}
  },
  {
   "cell_type": "code",
   "execution_count": 24,
   "source": [
    "r = np.random.randn()\r\n",
    "\r\n",
    "if r > 0:\r\n",
    "    outcome = 'positive'\r\n",
    "else:\r\n",
    "    outcome = 'negative'\r\n",
    "\r\n",
    "print('The number is ' + outcome)"
   ],
   "outputs": [
    {
     "output_type": "stream",
     "name": "stdout",
     "text": [
      "The number is negative\n"
     ]
    }
   ],
   "metadata": {}
  },
  {
   "cell_type": "code",
   "execution_count": 57,
   "source": [
    "r = [ 1, 3, 7, 9]\r\n",
    "\r\n",
    "def fun(r):\r\n",
    "    if r == 1:\r\n",
    "        print('r == 1')\r\n",
    "    elif r < 5:\r\n",
    "        print('r < 5')\r\n",
    "    elif r < 9:\r\n",
    "        print('r < 9')\r\n",
    "    else:\r\n",
    "        print('r == 9')\r\n",
    "\r\n",
    "    print(r)"
   ],
   "outputs": [],
   "metadata": {}
  },
  {
   "cell_type": "code",
   "execution_count": 58,
   "source": [
    "fun(r[0])\r\n",
    "fun(r[1])\r\n",
    "fun(r[2])\r\n",
    "fun(r[3])"
   ],
   "outputs": [
    {
     "output_type": "stream",
     "name": "stdout",
     "text": [
      "r == 1\n",
      "1\n",
      "r < 5\n",
      "3\n",
      "r < 9\n",
      "7\n",
      "r == 9\n",
      "9\n"
     ]
    }
   ],
   "metadata": {}
  },
  {
   "cell_type": "markdown",
   "source": [
    "---\r\n",
    "# ***If-else statements, part 2***\r\n",
    "---"
   ],
   "metadata": {}
  },
  {
   "cell_type": "code",
   "execution_count": 3,
   "source": [
    "import numpy as np"
   ],
   "outputs": [],
   "metadata": {}
  },
  {
   "cell_type": "code",
   "execution_count": 19,
   "source": [
    "x = np.random.randn()\r\n",
    "\r\n",
    "if x > 0 : print('x is positive')\r\n",
    "else : print('x is negative')\r\n",
    "\r\n",
    "print('x is positive') if x > 0 else  print('x is negative')"
   ],
   "outputs": [
    {
     "output_type": "stream",
     "name": "stdout",
     "text": [
      "x is positive\n",
      "x is positive\n"
     ]
    }
   ],
   "metadata": {}
  },
  {
   "cell_type": "code",
   "execution_count": 22,
   "source": [
    "'A'.lower(), 'a'.upper()"
   ],
   "outputs": [
    {
     "output_type": "execute_result",
     "data": {
      "text/plain": [
       "('a', 'A')"
      ]
     },
     "metadata": {},
     "execution_count": 22
    }
   ],
   "metadata": {}
  },
  {
   "cell_type": "code",
   "execution_count": 23,
   "source": [
    "# conjunction conditionals\r\n",
    "\r\n",
    "if 1<3 and 4==5:\r\n",
    "    print('Both conditionals are True.')\r\n",
    "else:\r\n",
    "    print('At least one conditional is false.')"
   ],
   "outputs": [
    {
     "output_type": "stream",
     "name": "stdout",
     "text": [
      "At least one conditional is false.\n"
     ]
    }
   ],
   "metadata": {}
  },
  {
   "cell_type": "markdown",
   "source": [
    "## Exercise"
   ],
   "metadata": {}
  },
  {
   "cell_type": "code",
   "execution_count": 41,
   "source": [
    "x = int(2)\r\n",
    "\r\n"
   ],
   "outputs": [
    {
     "output_type": "execute_result",
     "data": {
      "text/plain": [
       "False"
      ]
     },
     "metadata": {},
     "execution_count": 41
    }
   ],
   "metadata": {}
  },
  {
   "cell_type": "code",
   "execution_count": 75,
   "source": [
    "def dot(v1, v2):\r\n",
    "    if not ( isinstance(v1, np.ndarray) and isinstance(v2, np.ndarray) ):\r\n",
    "        raise Exception('Inputs must be numpy arrays')\r\n",
    "    elif not len(v1) == len(v2):\r\n",
    "        raise Exception('v1 or v2 not have smae shape')\r\n",
    "    \r\n",
    "    return np.sum(v1*v2)"
   ],
   "outputs": [],
   "metadata": {}
  },
  {
   "cell_type": "code",
   "execution_count": 81,
   "source": [
    "v1 = np.array([1, 2, 3])\r\n",
    "v2 = np.array([1, 2, 3])\r\n",
    "dot(v1, v2)"
   ],
   "outputs": [
    {
     "output_type": "execute_result",
     "data": {
      "text/plain": [
       "14"
      ]
     },
     "metadata": {},
     "execution_count": 81
    }
   ],
   "metadata": {}
  },
  {
   "cell_type": "markdown",
   "source": [
    "---\r\n",
    "# ***For loops***\r\n",
    "---"
   ],
   "metadata": {}
  },
  {
   "cell_type": "code",
   "execution_count": 11,
   "source": [
    "for i in range(3, 6):\r\n",
    "    print(i, i**2)"
   ],
   "outputs": [
    {
     "output_type": "stream",
     "name": "stdout",
     "text": [
      "3 9\n",
      "4 16\n",
      "5 25\n"
     ]
    }
   ],
   "metadata": {}
  },
  {
   "cell_type": "code",
   "execution_count": 8,
   "source": [
    "import numpy as np"
   ],
   "outputs": [],
   "metadata": {}
  },
  {
   "cell_type": "code",
   "execution_count": 10,
   "source": [
    "numbers = np.linspace(3, 17.1, 22)"
   ],
   "outputs": [],
   "metadata": {}
  },
  {
   "cell_type": "code",
   "execution_count": 15,
   "source": [
    "for i in range(len(numbers)):\r\n",
    "    print(numbers[i], end=', ')"
   ],
   "outputs": [
    {
     "output_type": "stream",
     "name": "stdout",
     "text": [
      "3.0, 3.6714285714285717, 4.342857142857143, 5.014285714285714, 5.685714285714286, 6.357142857142858, 7.0285714285714285, 7.7, 8.371428571428572, 9.042857142857144, 9.714285714285715, 10.385714285714286, 11.057142857142857, 11.72857142857143, 12.4, 13.071428571428573, 13.742857142857144, 14.414285714285715, 15.085714285714287, 15.757142857142858, 16.42857142857143, 17.1, "
     ]
    }
   ],
   "metadata": {}
  },
  {
   "cell_type": "code",
   "execution_count": 17,
   "source": [
    "for i in numbers:\r\n",
    "    print(i, end=', ')"
   ],
   "outputs": [
    {
     "output_type": "stream",
     "name": "stdout",
     "text": [
      "3.0, 3.6714285714285717, 4.342857142857143, 5.014285714285714, 5.685714285714286, 6.357142857142858, 7.0285714285714285, 7.7, 8.371428571428572, 9.042857142857144, 9.714285714285715, 10.385714285714286, 11.057142857142857, 11.72857142857143, 12.4, 13.071428571428573, 13.742857142857144, 14.414285714285715, 15.085714285714287, 15.757142857142858, 16.42857142857143, 17.1, "
     ]
    }
   ],
   "metadata": {}
  },
  {
   "cell_type": "code",
   "execution_count": 18,
   "source": [
    "for i in range(5):\r\n",
    "    if i%2 == 0:\r\n",
    "        print(f'{i} is even number.')\r\n",
    "    else:\r\n",
    "        print(f'{i} is odd number.')"
   ],
   "outputs": [
    {
     "output_type": "stream",
     "name": "stdout",
     "text": [
      "0 is even number.\n",
      "1 is odd number.\n",
      "2 is even number.\n",
      "3 is odd number.\n",
      "4 is even number.\n"
     ]
    }
   ],
   "metadata": {}
  },
  {
   "cell_type": "markdown",
   "source": [
    "## Exercise"
   ],
   "metadata": {}
  },
  {
   "cell_type": "markdown",
   "source": [
    "`fibonacci series : [0, 1, 1, 2, 3, ...] (some of previous two numbers)` "
   ],
   "metadata": {}
  },
  {
   "cell_type": "code",
   "execution_count": 39,
   "source": [
    "def FibonacciSeries(i, n1=0, n2=1):\r\n",
    "    series = [n1, n2]\r\n",
    "\r\n",
    "    for i in range(i-2):\r\n",
    "        series.append( sum(series[-2:]) )\r\n",
    "    \r\n",
    "    return series"
   ],
   "outputs": [],
   "metadata": {}
  },
  {
   "cell_type": "code",
   "execution_count": 40,
   "source": [
    "FibonacciSeries(10)"
   ],
   "outputs": [
    {
     "output_type": "execute_result",
     "data": {
      "text/plain": [
       "[0, 1, 1, 2, 3, 5, 8, 13, 21, 34]"
      ]
     },
     "metadata": {},
     "execution_count": 40
    }
   ],
   "metadata": {}
  },
  {
   "cell_type": "markdown",
   "source": [
    "---\r\n",
    "# ***Enumerate and zip***\r\n",
    "---"
   ],
   "metadata": {}
  },
  {
   "cell_type": "code",
   "execution_count": 41,
   "source": [
    "import numpy as np"
   ],
   "outputs": [],
   "metadata": {}
  },
  {
   "cell_type": "code",
   "execution_count": 42,
   "source": [
    "ns = np.linspace(-5, 5, 7)"
   ],
   "outputs": [],
   "metadata": {}
  },
  {
   "cell_type": "code",
   "execution_count": 46,
   "source": [
    "for i, n in enumerate(ns):\r\n",
    "    print(f'{i} : {n}')"
   ],
   "outputs": [
    {
     "output_type": "stream",
     "name": "stdout",
     "text": [
      "0 : -5.0\n",
      "1 : -3.333333333333333\n",
      "2 : -1.6666666666666665\n",
      "3 : 0.0\n",
      "4 : 1.666666666666667\n",
      "5 : 3.333333333333334\n",
      "6 : 5.0\n"
     ]
    }
   ],
   "metadata": {}
  },
  {
   "cell_type": "code",
   "execution_count": 76,
   "source": [
    "text = 'hello world'\r\n",
    "vowels = np.zeros(len(text), np.int)\r\n",
    "\r\n",
    "for i, l in enumerate(text):\r\n",
    "    if l in 'aeiou': vowels[i] = 1 \r\n",
    "\r\n",
    "vowels"
   ],
   "outputs": [
    {
     "output_type": "execute_result",
     "data": {
      "text/plain": [
       "array([0, 1, 0, 0, 1, 0, 0, 1, 0, 0, 0])"
      ]
     },
     "metadata": {},
     "execution_count": 76
    }
   ],
   "metadata": {}
  },
  {
   "cell_type": "code",
   "execution_count": 83,
   "source": [
    "listA = [1, 2, 3, 4]\r\n",
    "listB = ['a', 'b', 'c', 'd']"
   ],
   "outputs": [],
   "metadata": {}
  },
  {
   "cell_type": "code",
   "execution_count": 84,
   "source": [
    "for i in range(len(listA)):\r\n",
    "    print(f'{listA[i]} : {listB[i]}')"
   ],
   "outputs": [
    {
     "output_type": "stream",
     "name": "stdout",
     "text": [
      "1 : a\n",
      "2 : b\n",
      "3 : c\n",
      "4 : d\n"
     ]
    }
   ],
   "metadata": {}
  },
  {
   "cell_type": "code",
   "execution_count": 85,
   "source": [
    "for a,b in zip(listA, listB):\r\n",
    "    print(f'{a} : {b}')"
   ],
   "outputs": [
    {
     "output_type": "stream",
     "name": "stdout",
     "text": [
      "1 : a\n",
      "2 : b\n",
      "3 : c\n",
      "4 : d\n"
     ]
    }
   ],
   "metadata": {}
  },
  {
   "cell_type": "code",
   "execution_count": 86,
   "source": [
    "listA = [1, 2, 3, 4]\r\n",
    "listB = ['a', 'b']\r\n",
    "\r\n",
    "for a,b in zip(listA, listB):\r\n",
    "    print(f'{a} : {b}')"
   ],
   "outputs": [
    {
     "output_type": "stream",
     "name": "stdout",
     "text": [
      "1 : a\n",
      "2 : b\n"
     ]
    }
   ],
   "metadata": {}
  },
  {
   "cell_type": "markdown",
   "source": [
    "## Exercise"
   ],
   "metadata": {}
  },
  {
   "cell_type": "code",
   "execution_count": 100,
   "source": [
    "names = ['alpha', 'beta', 'gamma']\r\n",
    "values = [10, 20, 30]"
   ],
   "outputs": [],
   "metadata": {}
  },
  {
   "cell_type": "code",
   "execution_count": 101,
   "source": [
    "D1 = dict()\r\n",
    "\r\n",
    "for n, v in zip(names, values):\r\n",
    "    D1[n] = v\r\n",
    "\r\n",
    "D1"
   ],
   "outputs": [
    {
     "output_type": "execute_result",
     "data": {
      "text/plain": [
       "{'alpha': 10, 'beta': 20, 'gamma': 30}"
      ]
     },
     "metadata": {},
     "execution_count": 101
    }
   ],
   "metadata": {}
  },
  {
   "cell_type": "code",
   "execution_count": 102,
   "source": [
    "D2 = dict(zip(names, values))\r\n",
    "D2"
   ],
   "outputs": [
    {
     "output_type": "execute_result",
     "data": {
      "text/plain": [
       "{'alpha': 10, 'beta': 20, 'gamma': 30}"
      ]
     },
     "metadata": {},
     "execution_count": 102
    }
   ],
   "metadata": {}
  },
  {
   "cell_type": "markdown",
   "source": [
    "---\r\n",
    "# ***Continue***\r\n",
    "---"
   ],
   "metadata": {}
  },
  {
   "cell_type": "code",
   "execution_count": 107,
   "source": [
    "for i in range(10):\r\n",
    "    if i%2 == 0 : continue\r\n",
    "    print(i)"
   ],
   "outputs": [
    {
     "output_type": "stream",
     "name": "stdout",
     "text": [
      "1\n",
      "3\n",
      "5\n",
      "7\n",
      "9\n"
     ]
    }
   ],
   "metadata": {}
  },
  {
   "cell_type": "code",
   "execution_count": 114,
   "source": [
    "text = 'KaViNdA'\r\n",
    "\r\n",
    "for l in text:\r\n",
    "    if l.lower() in 'aeiou': continue\r\n",
    "    print(l, end='')"
   ],
   "outputs": [
    {
     "output_type": "stream",
     "name": "stdout",
     "text": [
      "KVNd"
     ]
    }
   ],
   "metadata": {}
  },
  {
   "cell_type": "markdown",
   "source": [
    "---\r\n",
    "# ***Initializing variables***\r\n",
    "---"
   ],
   "metadata": {}
  },
  {
   "cell_type": "code",
   "execution_count": 1,
   "source": [
    "import numpy as np"
   ],
   "outputs": [],
   "metadata": {}
  },
  {
   "cell_type": "code",
   "execution_count": 1,
   "source": [
    "r = 10"
   ],
   "outputs": [],
   "metadata": {}
  },
  {
   "cell_type": "code",
   "execution_count": 2,
   "source": [
    "whos"
   ],
   "outputs": [
    {
     "output_type": "stream",
     "name": "stdout",
     "text": [
      "Variable   Type      Data/Info\n",
      "------------------------------\n",
      "os         module    <module 'os' from 'C:\\\\Us<...>\\\\anaconda3\\\\lib\\\\os.py'>\n",
      "r          int       10\n",
      "sys        module    <module 'sys' (built-in)>\n"
     ]
    }
   ],
   "metadata": {}
  },
  {
   "cell_type": "code",
   "execution_count": 3,
   "source": [
    "# delete a variable\r\n",
    "del r"
   ],
   "outputs": [],
   "metadata": {}
  },
  {
   "cell_type": "code",
   "execution_count": 4,
   "source": [
    "whos"
   ],
   "outputs": [
    {
     "output_type": "stream",
     "name": "stdout",
     "text": [
      "Variable   Type      Data/Info\n",
      "------------------------------\n",
      "os         module    <module 'os' from 'C:\\\\Us<...>\\\\anaconda3\\\\lib\\\\os.py'>\n",
      "sys        module    <module 'sys' (built-in)>\n"
     ]
    }
   ],
   "metadata": {}
  },
  {
   "cell_type": "code",
   "execution_count": 5,
   "source": [
    "np.zeros(10)\r\n"
   ],
   "outputs": [
    {
     "output_type": "execute_result",
     "data": {
      "text/plain": [
       "array([0., 0., 0., 0., 0., 0., 0., 0., 0., 0.])"
      ]
     },
     "metadata": {},
     "execution_count": 5
    }
   ],
   "metadata": {}
  },
  {
   "cell_type": "code",
   "execution_count": 8,
   "source": [
    "np.full(10, 112)"
   ],
   "outputs": [
    {
     "output_type": "execute_result",
     "data": {
      "text/plain": [
       "array([112, 112, 112, 112, 112, 112, 112, 112, 112, 112])"
      ]
     },
     "metadata": {},
     "execution_count": 8
    }
   ],
   "metadata": {}
  },
  {
   "cell_type": "code",
   "execution_count": 16,
   "source": [
    "N = 10\r\n",
    "\r\n",
    "r = []\r\n",
    "\r\n",
    "for i in range(N):\r\n",
    "    r.append( i**2 )\r\n",
    "\r\n",
    "print(r)"
   ],
   "outputs": [
    {
     "output_type": "stream",
     "name": "stdout",
     "text": [
      "[0, 1, 4, 9, 16, 25, 36, 49, 64, 81]\n"
     ]
    }
   ],
   "metadata": {}
  },
  {
   "cell_type": "code",
   "execution_count": 19,
   "source": [
    "N = 10\r\n",
    "\r\n",
    "r = np.array([])\r\n",
    "\r\n",
    "for i in range(N):\r\n",
    "    r = np.append(r, i**2 )\r\n",
    "\r\n",
    "print(r)"
   ],
   "outputs": [
    {
     "output_type": "stream",
     "name": "stdout",
     "text": [
      "[ 0.  1.  4.  9. 16. 25. 36. 49. 64. 81.]\n"
     ]
    }
   ],
   "metadata": {}
  },
  {
   "cell_type": "code",
   "execution_count": 9,
   "source": [
    "N = 10\r\n",
    "\r\n",
    "r = np.zeros(N)\r\n",
    "\r\n",
    "for i in range(N):\r\n",
    "    r[i] = i**2\r\n",
    "\r\n",
    "print(r)"
   ],
   "outputs": [
    {
     "output_type": "stream",
     "name": "stdout",
     "text": [
      "[ 0.  1.  4.  9. 16. 25. 36. 49. 64. 81.]\n"
     ]
    }
   ],
   "metadata": {}
  },
  {
   "cell_type": "code",
   "execution_count": 15,
   "source": [
    "r = np.zeros( shape=(2,3), dtype=np.complex )\r\n",
    "r"
   ],
   "outputs": [
    {
     "output_type": "execute_result",
     "data": {
      "text/plain": [
       "array([[0.+0.j, 0.+0.j, 0.+0.j],\n",
       "       [0.+0.j, 0.+0.j, 0.+0.j]])"
      ]
     },
     "metadata": {},
     "execution_count": 15
    }
   ],
   "metadata": {}
  },
  {
   "cell_type": "markdown",
   "source": [
    "## Exercise"
   ],
   "metadata": {}
  },
  {
   "cell_type": "code",
   "execution_count": 14,
   "source": [
    "import time"
   ],
   "outputs": [],
   "metadata": {}
  },
  {
   "cell_type": "code",
   "execution_count": 15,
   "source": [
    "tStart = 0\r\n",
    "tStop = 0\r\n",
    "N = 10000\r\n",
    "t = [0]*3"
   ],
   "outputs": [],
   "metadata": {}
  },
  {
   "cell_type": "code",
   "execution_count": 16,
   "source": [
    "tStart = time.perf_counter()\r\n",
    "\r\n",
    "r = []\r\n",
    "\r\n",
    "for i in range(N):\r\n",
    "    r.append( i**2 )\r\n",
    "\r\n",
    "tStop = time.perf_counter()\r\n",
    "\r\n",
    "t[0] = tStop - tStart"
   ],
   "outputs": [],
   "metadata": {}
  },
  {
   "cell_type": "code",
   "execution_count": 17,
   "source": [
    "tStart = time.perf_counter()\r\n",
    "\r\n",
    "r = np.array([])\r\n",
    "\r\n",
    "for i in range(N):\r\n",
    "    r = np.append(r, i**2 )\r\n",
    "\r\n",
    "tStop = time.perf_counter()\r\n",
    "\r\n",
    "t[1] = tStop - tStart"
   ],
   "outputs": [],
   "metadata": {}
  },
  {
   "cell_type": "code",
   "execution_count": 18,
   "source": [
    "tStart = time.perf_counter()\r\n",
    "\r\n",
    "r = np.zeros(N)\r\n",
    "\r\n",
    "for i in range(N):\r\n",
    "    r[i] = i**2\r\n",
    "\r\n",
    "tStop = time.perf_counter()\r\n",
    "\r\n",
    "t[2] = tStop - tStart"
   ],
   "outputs": [],
   "metadata": {}
  },
  {
   "cell_type": "code",
   "execution_count": 19,
   "source": [
    "print(f'List Append Time          : {1000*t[0]} ms')\r\n",
    "print(f'Numpy Append Time         : {1000*t[1]} ms')\r\n",
    "print(f'Numpy Initialization Time : {1000*t[2]} ms')"
   ],
   "outputs": [
    {
     "output_type": "stream",
     "name": "stdout",
     "text": [
      "List Append Time          : 9.404799999970237 ms\n",
      "Numpy Append Time         : 217.62780000000248 ms\n",
      "Numpy Initialization Time : 8.911300000022493 ms\n"
     ]
    }
   ],
   "metadata": {}
  },
  {
   "cell_type": "markdown",
   "source": [
    "---\r\n",
    "# ***Single-line loops (list comprehension)***\r\n",
    "---"
   ],
   "metadata": {}
  },
  {
   "cell_type": "code",
   "execution_count": 1,
   "source": [
    "import random"
   ],
   "outputs": [],
   "metadata": {}
  },
  {
   "cell_type": "code",
   "execution_count": 5,
   "source": [
    "random.randint(1,10)"
   ],
   "outputs": [
    {
     "output_type": "execute_result",
     "data": {
      "text/plain": [
       "4"
      ]
     },
     "metadata": {},
     "execution_count": 5
    }
   ],
   "metadata": {}
  },
  {
   "cell_type": "code",
   "execution_count": 27,
   "source": [
    "r = random.randint(1,10)\r\n",
    "\r\n",
    "print('r is large',r) if r>5 else print('r is small',r)"
   ],
   "outputs": [
    {
     "output_type": "stream",
     "name": "stdout",
     "text": [
      "r is small 5\n"
     ]
    }
   ],
   "metadata": {}
  },
  {
   "cell_type": "code",
   "execution_count": 33,
   "source": [
    "[ i**2 for i in range(10) ]"
   ],
   "outputs": [
    {
     "output_type": "execute_result",
     "data": {
      "text/plain": [
       "[0, 1, 4, 9, 16, 25, 36, 49, 64, 81]"
      ]
     },
     "metadata": {},
     "execution_count": 33
    }
   ],
   "metadata": {}
  },
  {
   "cell_type": "code",
   "execution_count": 36,
   "source": [
    "[ i**2 for i in range(10) if i>5 ]"
   ],
   "outputs": [
    {
     "output_type": "execute_result",
     "data": {
      "text/plain": [
       "[36, 49, 64, 81]"
      ]
     },
     "metadata": {},
     "execution_count": 36
    }
   ],
   "metadata": {}
  },
  {
   "cell_type": "code",
   "execution_count": 72,
   "source": [
    "x = 10"
   ],
   "outputs": [],
   "metadata": {}
  },
  {
   "cell_type": "code",
   "execution_count": 73,
   "source": [
    "x"
   ],
   "outputs": [
    {
     "output_type": "execute_result",
     "data": {
      "text/plain": [
       "10"
      ]
     },
     "metadata": {},
     "execution_count": 73
    }
   ],
   "metadata": {}
  },
  {
   "cell_type": "code",
   "execution_count": 78,
   "source": [
    "x; # ; suppress the output"
   ],
   "outputs": [],
   "metadata": {}
  },
  {
   "cell_type": "markdown",
   "source": [
    "## Exercise"
   ],
   "metadata": {}
  },
  {
   "cell_type": "code",
   "execution_count": 79,
   "source": [
    "text = ['Promising', 'Yves', 'That', 'Home', 'On', 'Nobb']\r\n",
    "\r\n",
    "[ print(word[0], end='') for word in text ];"
   ],
   "outputs": [
    {
     "output_type": "stream",
     "name": "stdout",
     "text": [
      "PYTHON"
     ]
    }
   ],
   "metadata": {}
  },
  {
   "cell_type": "code",
   "execution_count": 83,
   "source": [
    "['odd' if i%2==1 else i for i in range(10)]"
   ],
   "outputs": [
    {
     "output_type": "execute_result",
     "data": {
      "text/plain": [
       "[0, 'odd', 2, 'odd', 4, 'odd', 6, 'odd', 8, 'odd']"
      ]
     },
     "metadata": {},
     "execution_count": 83
    }
   ],
   "metadata": {}
  },
  {
   "cell_type": "code",
   "execution_count": 48,
   "source": [
    "import numpy as np\r\n",
    "\r\n",
    "x1 = np.linspace(-3, 3, 11)\r\n",
    "y1 = x1**2\r\n",
    "\r\n",
    "x1, y1"
   ],
   "outputs": [
    {
     "output_type": "execute_result",
     "data": {
      "text/plain": [
       "(array([-3. , -2.4, -1.8, -1.2, -0.6,  0. ,  0.6,  1.2,  1.8,  2.4,  3. ]),\n",
       " array([9.  , 5.76, 3.24, 1.44, 0.36, 0.  , 0.36, 1.44, 3.24, 5.76, 9.  ]))"
      ]
     },
     "metadata": {},
     "execution_count": 48
    }
   ],
   "metadata": {}
  },
  {
   "cell_type": "code",
   "execution_count": 87,
   "source": [
    "s = ( 3 - (-3)) / (11 - 1)\r\n",
    "\r\n",
    "x1 =[ round(-3 + (i * s), 2) for i in range(11)]\r\n",
    "x1"
   ],
   "outputs": [
    {
     "output_type": "execute_result",
     "data": {
      "text/plain": [
       "[-3.0, -2.4, -1.8, -1.2, -0.6, 0.0, 0.6, 1.2, 1.8, 2.4, 3.0]"
      ]
     },
     "metadata": {},
     "execution_count": 87
    }
   ],
   "metadata": {}
  },
  {
   "cell_type": "code",
   "execution_count": 90,
   "source": [
    "[(i*3)/5 for i in range(-5, 6)]"
   ],
   "outputs": [
    {
     "output_type": "execute_result",
     "data": {
      "text/plain": [
       "[-3.0, -2.4, -1.8, -1.2, -0.6, 0.0, 0.6, 1.2, 1.8, 2.4, 3.0]"
      ]
     },
     "metadata": {},
     "execution_count": 90
    }
   ],
   "metadata": {}
  },
  {
   "cell_type": "code",
   "execution_count": 70,
   "source": [
    "y1 = [i**2 for i in x1]\r\n",
    "y1"
   ],
   "outputs": [
    {
     "output_type": "execute_result",
     "data": {
      "text/plain": [
       "[9.0, 5.76, 3.24, 1.44, 0.36, 0.0, 0.36, 1.44, 3.24, 5.76, 9.0]"
      ]
     },
     "metadata": {},
     "execution_count": 70
    }
   ],
   "metadata": {}
  }
 ],
 "metadata": {
  "orig_nbformat": 4,
  "language_info": {
   "name": "python",
   "version": "3.8.5",
   "mimetype": "text/x-python",
   "codemirror_mode": {
    "name": "ipython",
    "version": 3
   },
   "pygments_lexer": "ipython3",
   "nbconvert_exporter": "python",
   "file_extension": ".py"
  },
  "kernelspec": {
   "name": "python3",
   "display_name": "Python 3.8.5 64-bit ('base': conda)"
  },
  "interpreter": {
   "hash": "293c111297a61481508202fcd690d673b0775ece2d2d867b62b8842b676a9a30"
  }
 },
 "nbformat": 4,
 "nbformat_minor": 2
}