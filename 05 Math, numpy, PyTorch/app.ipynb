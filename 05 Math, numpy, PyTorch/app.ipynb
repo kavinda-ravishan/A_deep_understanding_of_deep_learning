{
 "cells": [
  {
   "cell_type": "markdown",
   "source": [
    "---\r\n",
    "# **Vector and matrix transpose**\r\n",
    "---"
   ],
   "metadata": {}
  },
  {
   "cell_type": "markdown",
   "source": [
    "## Import"
   ],
   "metadata": {}
  },
  {
   "cell_type": "code",
   "execution_count": 21,
   "source": [
    "import torch\r\n",
    "torch. __version__"
   ],
   "outputs": [
    {
     "output_type": "execute_result",
     "data": {
      "text/plain": [
       "'1.8.1'"
      ]
     },
     "metadata": {},
     "execution_count": 21
    }
   ],
   "metadata": {}
  },
  {
   "cell_type": "code",
   "execution_count": 22,
   "source": [
    "import numpy as np"
   ],
   "outputs": [],
   "metadata": {}
  },
  {
   "cell_type": "markdown",
   "source": [
    "## Numpy"
   ],
   "metadata": {}
  },
  {
   "cell_type": "code",
   "execution_count": 27,
   "source": [
    "nv = np.array([[1, 2, 3]])\r\n",
    "\r\n",
    "nvT = nv.T\r\n",
    "\r\n",
    "print(nv, end='\\n\\n')\r\n",
    "print(nvT, end='\\n\\n')\r\n",
    "print(nvT.T, end='\\n\\n')"
   ],
   "outputs": [
    {
     "output_type": "stream",
     "name": "stdout",
     "text": [
      "[[1 2 3]]\n",
      "\n",
      "[[1]\n",
      " [2]\n",
      " [3]]\n",
      "\n",
      "[[1 2 3]]\n",
      "\n"
     ]
    }
   ],
   "metadata": {}
  },
  {
   "cell_type": "code",
   "execution_count": 31,
   "source": [
    "nM = np.array(\r\n",
    "    [\r\n",
    "        [1, 2, 3],\r\n",
    "        [4, 5, 6]\r\n",
    "    ]\r\n",
    ")\r\n",
    "\r\n",
    "nMT = nM.T\r\n",
    "\r\n",
    "print(nM, end='\\n\\n')\r\n",
    "print(nMT, end='\\n\\n')\r\n",
    "print(nMT.T, end='\\n\\n')"
   ],
   "outputs": [
    {
     "output_type": "stream",
     "name": "stdout",
     "text": [
      "[[1 2 3]\n",
      " [4 5 6]]\n",
      "\n",
      "[[1 4]\n",
      " [2 5]\n",
      " [3 6]]\n",
      "\n",
      "[[1 2 3]\n",
      " [4 5 6]]\n",
      "\n"
     ]
    }
   ],
   "metadata": {}
  },
  {
   "cell_type": "markdown",
   "source": [
    "## Pytorch"
   ],
   "metadata": {}
  },
  {
   "cell_type": "code",
   "execution_count": 32,
   "source": [
    "tv = torch.Tensor([[1, 2, 3]])\r\n",
    "\r\n",
    "tvT = tv.T\r\n",
    "\r\n",
    "print(tv, end='\\n\\n')\r\n",
    "print(tvT, end='\\n\\n')\r\n",
    "print(tvT.T, end='\\n\\n')"
   ],
   "outputs": [
    {
     "output_type": "stream",
     "name": "stdout",
     "text": [
      "tensor([[1., 2., 3.]])\n",
      "\n",
      "tensor([[1.],\n",
      "        [2.],\n",
      "        [3.]])\n",
      "\n",
      "tensor([[1., 2., 3.]])\n",
      "\n"
     ]
    }
   ],
   "metadata": {}
  },
  {
   "cell_type": "code",
   "execution_count": 33,
   "source": [
    "tM = torch.Tensor(\r\n",
    "    [\r\n",
    "        [1, 2, 3],\r\n",
    "        [4, 5, 6]\r\n",
    "    ]\r\n",
    ")\r\n",
    "\r\n",
    "tMT = tM.T\r\n",
    "\r\n",
    "print(tM, end='\\n\\n')\r\n",
    "print(tMT, end='\\n\\n')\r\n",
    "print(tMT.T, end='\\n\\n')"
   ],
   "outputs": [
    {
     "output_type": "stream",
     "name": "stdout",
     "text": [
      "tensor([[1., 2., 3.],\n",
      "        [4., 5., 6.]])\n",
      "\n",
      "tensor([[1., 4.],\n",
      "        [2., 5.],\n",
      "        [3., 6.]])\n",
      "\n",
      "tensor([[1., 2., 3.],\n",
      "        [4., 5., 6.]])\n",
      "\n"
     ]
    }
   ],
   "metadata": {}
  },
  {
   "cell_type": "markdown",
   "source": [
    "## Data types"
   ],
   "metadata": {}
  },
  {
   "cell_type": "code",
   "execution_count": 34,
   "source": [
    "print(f'Variable nv is of type {type(nv)}')\r\n",
    "print(f'Variable nM is of type {type(nM)}')\r\n",
    "print(f'Variable tv is of type {type(tv)}')\r\n",
    "print(f'Variable tM is of type {type(tM)}')"
   ],
   "outputs": [
    {
     "output_type": "stream",
     "name": "stdout",
     "text": [
      "Variable nv is of type <class 'numpy.ndarray'>\n",
      "Variable nM is of type <class 'numpy.ndarray'>\n",
      "Variable tv is of type <class 'torch.Tensor'>\n",
      "Variable tM is of type <class 'torch.Tensor'>\n"
     ]
    }
   ],
   "metadata": {}
  },
  {
   "cell_type": "markdown",
   "source": [
    "---\r\n",
    "# **The dot product**\r\n",
    "---"
   ],
   "metadata": {}
  },
  {
   "cell_type": "code",
   "execution_count": 1,
   "source": [
    "import numpy as np\r\n",
    "import torch"
   ],
   "outputs": [],
   "metadata": {}
  },
  {
   "cell_type": "markdown",
   "source": [
    "## Numpy"
   ],
   "metadata": {}
  },
  {
   "cell_type": "code",
   "execution_count": 2,
   "source": [
    "tv1 = np.array([1, 2, 3, 4])\r\n",
    "tv2 = np.array([0, 1, 0, -1])\r\n",
    "\r\n",
    "print(np.dot(tv1, tv2))\r\n",
    "print(np.sum(tv1*tv2))"
   ],
   "outputs": [
    {
     "output_type": "stream",
     "name": "stdout",
     "text": [
      "-2\n",
      "-2\n"
     ]
    }
   ],
   "metadata": {}
  },
  {
   "cell_type": "markdown",
   "source": [
    "## PyTorch"
   ],
   "metadata": {}
  },
  {
   "cell_type": "code",
   "execution_count": 3,
   "source": [
    "tv1 = torch.tensor([1, 2, 3, 4])\r\n",
    "tv2 = torch.tensor([0, 1, 0, -1])\r\n",
    "\r\n",
    "print(torch.dot(tv1, tv2))\r\n",
    "print(torch.sum(tv1*tv2))"
   ],
   "outputs": [
    {
     "output_type": "stream",
     "name": "stdout",
     "text": [
      "tensor(-2)\n",
      "tensor(-2)\n"
     ]
    }
   ],
   "metadata": {}
  },
  {
   "cell_type": "markdown",
   "source": [
    "---\r\n",
    "# **Matrix multiplication**\r\n",
    "---"
   ],
   "metadata": {}
  },
  {
   "cell_type": "code",
   "execution_count": 4,
   "source": [
    "import numpy as np\r\n",
    "import torch"
   ],
   "outputs": [],
   "metadata": {}
  },
  {
   "cell_type": "markdown",
   "source": [
    "## Numpy"
   ],
   "metadata": {}
  },
  {
   "cell_type": "code",
   "execution_count": 9,
   "source": [
    "# np.matmul(A, B) == A@B\r\n",
    "\r\n",
    "A = np.random.randn(3,4)\r\n",
    "B = np.random.randn(4,5)\r\n",
    "C = np.random.randn(3,7)\r\n",
    "\r\n",
    "print(np.round(A@B, 2), end='\\n\\n')\r\n",
    "print(np.round(C.T@A, 2))"
   ],
   "outputs": [
    {
     "output_type": "stream",
     "name": "stdout",
     "text": [
      "[[-0.22  1.31 -0.31  1.07  2.45]\n",
      " [-0.88 -1.36  3.72  2.11 -2.83]\n",
      " [ 0.39  0.96 -0.67  1.12  2.87]]\n",
      "\n",
      "[[-2.33 -0.19 -1.24  0.17]\n",
      " [-1.01 -0.36 -0.48  0.02]\n",
      " [ 0.26  1.12  1.05 -0.09]\n",
      " [ 0.56  0.04  0.4  -0.07]\n",
      " [-2.83  1.91  0.14  0.1 ]\n",
      " [-2.77 -1.41 -2.15  0.21]\n",
      " [ 2.6  -0.1   0.52 -0.02]]\n"
     ]
    }
   ],
   "metadata": {}
  },
  {
   "cell_type": "markdown",
   "source": [
    "## PyTorch"
   ],
   "metadata": {}
  },
  {
   "cell_type": "code",
   "execution_count": 15,
   "source": [
    "A = torch.randn(3,4)\r\n",
    "B = torch.randn(4,5)\r\n",
    "C1 = np.random.randn(4,7)\r\n",
    "C2 = torch.tensor(C1, dtype=torch.float)\r\n",
    "\r\n",
    "print(np.round(A@B), end='\\n\\n')\r\n",
    "print(np.round(A@C1), end='\\n\\n')\r\n",
    "print(np.round(A@C2))"
   ],
   "outputs": [
    {
     "output_type": "stream",
     "name": "stdout",
     "text": [
      "tensor([[ 1., -2.,  1., -2.,  1.],\n",
      "        [ 2., -2.,  1., -2., -1.],\n",
      "        [-2.,  1.,  1., -2.,  0.]])\n",
      "\n",
      "tensor([[-0.,  2.,  1.,  2., -3.,  1.,  3.],\n",
      "        [-1.,  1.,  2.,  3.,  2.,  1.,  1.],\n",
      "        [ 1., -2., -2., -2.,  1., -1.,  0.]], dtype=torch.float64)\n",
      "\n",
      "tensor([[-0.,  2.,  1.,  2., -3.,  1.,  3.],\n",
      "        [-1.,  1.,  2.,  3.,  2.,  1.,  1.],\n",
      "        [ 1., -2., -2., -2.,  1., -1.,  0.]])\n"
     ]
    }
   ],
   "metadata": {}
  },
  {
   "cell_type": "markdown",
   "source": [
    "---\r\n",
    "# **Softmax**\r\n",
    "---"
   ],
   "metadata": {}
  },
  {
   "cell_type": "code",
   "execution_count": 2,
   "source": [
    "import numpy as np\r\n",
    "import torch\r\n",
    "import torch.nn as nn\r\n",
    "import matplotlib.pyplot as plt"
   ],
   "outputs": [],
   "metadata": {}
  },
  {
   "cell_type": "markdown",
   "source": [
    "## Numpy"
   ],
   "metadata": {}
  },
  {
   "cell_type": "code",
   "execution_count": 41,
   "source": [
    "z = [1, 2, 3]\r\n",
    "\r\n",
    "num = np.exp(z)\r\n",
    "den = np.sum(np.exp(z))\r\n",
    "sigma = num / den\r\n",
    "\r\n",
    "print(sigma)\r\n",
    "print(np.sum(sigma))"
   ],
   "outputs": [
    {
     "output_type": "stream",
     "name": "stdout",
     "text": [
      "[0.09003057 0.24472847 0.66524096]\n",
      "1.0\n"
     ]
    }
   ],
   "metadata": {}
  },
  {
   "cell_type": "code",
   "execution_count": 42,
   "source": [
    "z = np.random.randint(-5, 15, 25)\r\n",
    "\r\n",
    "num = np.exp(z)\r\n",
    "den = np.sum(np.exp(z))\r\n",
    "sigma1 = num / den"
   ],
   "outputs": [],
   "metadata": {}
  },
  {
   "cell_type": "code",
   "execution_count": 43,
   "source": [
    "plt.plot(z, sigma1, 'ko')\r\n",
    "plt.xlabel('Original number (z)')\r\n",
    "plt.ylabel('Softmax applied $\\sigma$ log')\r\n",
    "plt.title('$\\sum\\sigma$ = %g' %np.sum(sigma))\r\n",
    "plt.yscale('log')\r\n",
    "plt.show()"
   ],
   "outputs": [
    {
     "output_type": "display_data",
     "data": {
      "image/png": "[encoded data removed]",
      "text/plain": [
       "<Figure size 432x288 with 1 Axes>"
      ]
     },
     "metadata": {
      "needs_background": "light"
     }
    }
   ],
   "metadata": {}
  },
  {
   "cell_type": "markdown",
   "source": [
    "## PyTorch"
   ],
   "metadata": {}
  },
  {
   "cell_type": "code",
   "execution_count": 45,
   "source": [
    "z = [1, 2, 3]\r\n",
    "\r\n",
    "softmax = nn.Softmax(dim=0)\r\n",
    "\r\n",
    "sigmaT = softmax( torch.Tensor(z) )\r\n",
    "\r\n",
    "print(sigmaT)"
   ],
   "outputs": [
    {
     "output_type": "stream",
     "name": "stdout",
     "text": [
      "tensor([0.0900, 0.2447, 0.6652])\n"
     ]
    }
   ],
   "metadata": {}
  },
  {
   "cell_type": "markdown",
   "source": [
    "## Compare results"
   ],
   "metadata": {}
  },
  {
   "cell_type": "code",
   "execution_count": 50,
   "source": [
    "r = np.corrcoef(sigma, sigmaT)[0, 1]\r\n",
    "\r\n",
    "print(f'The two methods correlate at r = {r}')"
   ],
   "outputs": [
    {
     "output_type": "stream",
     "name": "stdout",
     "text": [
      "The two methods correlate at r = 1.0\n"
     ]
    }
   ],
   "metadata": {}
  },
  {
   "cell_type": "markdown",
   "source": [
    "---\r\n",
    "# **Logarithms**\r\n",
    "---"
   ],
   "metadata": {}
  },
  {
   "cell_type": "code",
   "execution_count": 1,
   "source": [
    "import numpy as np\r\n",
    "import matplotlib.pyplot as plt"
   ],
   "outputs": [],
   "metadata": {}
  },
  {
   "cell_type": "code",
   "execution_count": 2,
   "source": [
    "x = np.linspace(0.0001, 1, 200)\r\n",
    "logx = np.log(x)\r\n",
    "\r\n",
    "fig = plt.figure(figsize=(10,4))\r\n",
    "plt.rcParams.update({'font.size':15})\r\n",
    "\r\n",
    "plt.plot(x, logx, 'ks-', markerfacecolor='w')\r\n",
    "plt.ylabel('log(x)')\r\n",
    "plt.xlabel('x')\r\n",
    "plt.show()"
   ],
   "outputs": [
    {
     "output_type": "display_data",
     "data": {
      "image/png": "[encoded data removed]",
      "text/plain": [
       "<Figure size 720x288 with 1 Axes>"
      ]
     },
     "metadata": {
      "needs_background": "light"
     }
    }
   ],
   "metadata": {}
  },
  {
   "cell_type": "code",
   "execution_count": 3,
   "source": [
    "x = np.linspace(0.0001, 1, 20)\r\n",
    "\r\n",
    "logx = np.log(x)\r\n",
    "expx = np.exp(x)\r\n",
    "\r\n",
    "plt.plot(x, x, color=[.8, .8, .8])\r\n",
    "plt.plot(x, np.exp(logx), 'o', markersize=8)\r\n",
    "plt.plot(x, np.log(expx), 'x', markersize=8)\r\n",
    "plt.ylabel('f(g(x))')\r\n",
    "plt.xlabel('x')\r\n",
    "plt.legend(['unity', 'exp(logx)', 'log(expx)'])\r\n",
    "plt.show()"
   ],
   "outputs": [
    {
     "output_type": "display_data",
     "data": {
      "image/png": "[encoded data removed]",
      "text/plain": [
       "<Figure size 432x288 with 1 Axes>"
      ]
     },
     "metadata": {
      "needs_background": "light"
     }
    }
   ],
   "metadata": {}
  },
  {
   "cell_type": "markdown",
   "source": [
    "---\r\n",
    "# **Entropy and cross-entropy**\r\n",
    "---"
   ],
   "metadata": {}
  },
  {
   "cell_type": "markdown",
   "source": [
    "## Numpy"
   ],
   "metadata": {}
  },
  {
   "cell_type": "code",
   "execution_count": 3,
   "source": [
    "import numpy as np"
   ],
   "outputs": [],
   "metadata": {}
  },
  {
   "cell_type": "markdown",
   "source": [
    "### Binary entropy (only two events)"
   ],
   "metadata": {}
  },
  {
   "cell_type": "code",
   "execution_count": 4,
   "source": [
    "x = [ .25, .75]\r\n",
    "\r\n",
    "H = 0\r\n",
    "\r\n",
    "for p in x:\r\n",
    "    H -= p*np.log(p)\r\n",
    "\r\n",
    "print(f'Entropy : {H}')"
   ],
   "outputs": [
    {
     "output_type": "stream",
     "name": "stdout",
     "text": [
      "Entropy : 0.5623351446188083\n"
     ]
    }
   ],
   "metadata": {}
  },
  {
   "cell_type": "code",
   "execution_count": 6,
   "source": [
    "p = .25\r\n",
    "H = - (p*np.log(p) + (1-p)*np.log(1-p))\r\n",
    "print(f'Entropy : {H}')"
   ],
   "outputs": [
    {
     "output_type": "stream",
     "name": "stdout",
     "text": [
      "Entropy : 0.5623351446188083\n"
     ]
    }
   ],
   "metadata": {}
  },
  {
   "cell_type": "markdown",
   "source": [
    "### Cross-entropy"
   ],
   "metadata": {}
  },
  {
   "cell_type": "code",
   "execution_count": 10,
   "source": [
    "p = [ 1, 0] # sum=1, (is cat or not cat)\r\n",
    "q = [.25, .75] # sum=1, (model prediction cat)\r\n",
    "\r\n",
    "H = 0\r\n",
    "\r\n",
    "for i in range(len(p)):\r\n",
    "    H -= p[i]*np.log(q[i])\r\n",
    "\r\n",
    "print(f'Cross-entropy : {H}')"
   ],
   "outputs": [
    {
     "output_type": "stream",
     "name": "stdout",
     "text": [
      "Entropy : 1.3862943611198906\n"
     ]
    }
   ],
   "metadata": {}
  },
  {
   "cell_type": "code",
   "execution_count": 14,
   "source": [
    "H = - (p[0]*np.log(q[0]) + p[1]*np.log(q[1]))\r\n",
    "print(f'Cross-entropy : {H}')\r\n",
    "\r\n",
    "# simplification p[1] = 0, p[1] = 1\r\n",
    "H = -np.log(q[0])\r\n",
    "print(f'Cross-entropy : {H}')"
   ],
   "outputs": [
    {
     "output_type": "stream",
     "name": "stdout",
     "text": [
      "Cross-entropy : 1.3862943611198906\n",
      "Cross-entropy : 1.3862943611198906\n"
     ]
    }
   ],
   "metadata": {}
  },
  {
   "cell_type": "markdown",
   "source": [
    "## PyTorch"
   ],
   "metadata": {}
  },
  {
   "cell_type": "code",
   "execution_count": 15,
   "source": [
    "import torch\r\n",
    "import torch.nn.functional as F"
   ],
   "outputs": [],
   "metadata": {}
  },
  {
   "cell_type": "code",
   "execution_count": 19,
   "source": [
    "p_tensor = torch.Tensor([1, 0])\r\n",
    "q_tensor = torch.Tensor([.25, .75])\r\n",
    "\r\n",
    "F.binary_cross_entropy(q_tensor, p_tensor)"
   ],
   "outputs": [
    {
     "output_type": "execute_result",
     "data": {
      "text/plain": [
       "tensor(1.3863)"
      ]
     },
     "metadata": {},
     "execution_count": 19
    }
   ],
   "metadata": {}
  },
  {
   "cell_type": "markdown",
   "source": [
    "---\r\n",
    "# **Min_max and argmin_argmax**\r\n",
    "---"
   ],
   "metadata": {}
  },
  {
   "cell_type": "code",
   "execution_count": 17,
   "source": [
    "import numpy as np\r\n",
    "import torch"
   ],
   "outputs": [],
   "metadata": {}
  },
  {
   "cell_type": "markdown",
   "source": [
    "## Numpy"
   ],
   "metadata": {}
  },
  {
   "cell_type": "code",
   "execution_count": 18,
   "source": [
    "v = np.array([1, 20, 2, -3])\r\n",
    "\r\n",
    "print(v)\r\n",
    "\r\n",
    "print(f'Min : {np.min(v)}, Max : {np.max(v)}')\r\n",
    "\r\n",
    "minIndex = np.argmin(v)\r\n",
    "maxIndex = np.argmax(v)\r\n",
    "\r\n",
    "print(f'Min Index : {minIndex}, Max Index : {maxIndex}')\r\n",
    "print(f'Min : {v[minIndex]}, Max : {v[maxIndex]}')"
   ],
   "outputs": [
    {
     "output_type": "stream",
     "name": "stdout",
     "text": [
      "[ 1 20  2 -3]\n",
      "Min : -3, Max : 20\n",
      "Min Index : 3, Max Index : 1\n",
      "Min : -3, Max : 20\n"
     ]
    }
   ],
   "metadata": {}
  },
  {
   "cell_type": "code",
   "execution_count": 19,
   "source": [
    "M = np.array(\r\n",
    "    [\r\n",
    "        [0, 1, 10],\r\n",
    "        [20, 8, 5]\r\n",
    "    ]\r\n",
    ")\r\n",
    "\r\n",
    "print(M)\r\n",
    "print(np.min(M))\r\n",
    "print(np.min(M, axis=0))\r\n",
    "print(np.min(M, axis=1))"
   ],
   "outputs": [
    {
     "output_type": "stream",
     "name": "stdout",
     "text": [
      "[[ 0  1 10]\n",
      " [20  8  5]]\n",
      "0\n",
      "[0 1 5]\n",
      "[0 5]\n"
     ]
    }
   ],
   "metadata": {}
  },
  {
   "cell_type": "code",
   "execution_count": 20,
   "source": [
    "M = np.array(\r\n",
    "    [\r\n",
    "        [0, 1, 10],\r\n",
    "        [20, 8, 5]\r\n",
    "    ]\r\n",
    ")\r\n",
    "\r\n",
    "print(M)\r\n",
    "print(np.argmin(M))\r\n",
    "print(np.argmin(M, axis=0))\r\n",
    "print(np.argmin(M, axis=1))"
   ],
   "outputs": [
    {
     "output_type": "stream",
     "name": "stdout",
     "text": [
      "[[ 0  1 10]\n",
      " [20  8  5]]\n",
      "0\n",
      "[0 0 1]\n",
      "[0 2]\n"
     ]
    }
   ],
   "metadata": {}
  },
  {
   "cell_type": "markdown",
   "source": [
    "## PyTorch"
   ],
   "metadata": {}
  },
  {
   "cell_type": "code",
   "execution_count": 21,
   "source": [
    "v = torch.Tensor([1, 20, 2, -3])\r\n",
    "\r\n",
    "print(v)\r\n",
    "\r\n",
    "print(f'Min : {torch.min(v)}, Max : {torch.max(v)}')\r\n",
    "\r\n",
    "minIndex = torch.argmin(v)\r\n",
    "maxIndex = torch.argmax(v)\r\n",
    "\r\n",
    "print(f'Min Index : {minIndex}, Max Index : {maxIndex}')\r\n",
    "print(f'Min : {v[minIndex]}, Max : {v[maxIndex]}')\r\n"
   ],
   "outputs": [
    {
     "output_type": "stream",
     "name": "stdout",
     "text": [
      "tensor([ 1., 20.,  2., -3.])\n",
      "Min : -3.0, Max : 20.0\n",
      "Min Index : 3, Max Index : 1\n",
      "Min : -3.0, Max : 20.0\n"
     ]
    }
   ],
   "metadata": {}
  },
  {
   "cell_type": "code",
   "execution_count": 22,
   "source": [
    "M = torch.Tensor(\r\n",
    "    [\r\n",
    "        [0, 1, 10],\r\n",
    "        [20, 8, 5]\r\n",
    "    ]\r\n",
    ")\r\n",
    "\r\n",
    "min1 = torch.min(M)\r\n",
    "min2 = torch.min(M, axis=0)\r\n",
    "min3 = torch.min(M, axis=1)\r\n",
    "\r\n",
    "print(min1)\r\n",
    "print(min2)\r\n",
    "print(min3)"
   ],
   "outputs": [
    {
     "output_type": "stream",
     "name": "stdout",
     "text": [
      "tensor(0.)\n",
      "torch.return_types.min(\n",
      "values=tensor([0., 1., 5.]),\n",
      "indices=tensor([0, 0, 1]))\n",
      "torch.return_types.min(\n",
      "values=tensor([0., 5.]),\n",
      "indices=tensor([0, 2]))\n"
     ]
    }
   ],
   "metadata": {}
  },
  {
   "cell_type": "code",
   "execution_count": 23,
   "source": [
    "min2.indices, min2.values"
   ],
   "outputs": [
    {
     "output_type": "execute_result",
     "data": {
      "text/plain": [
       "(tensor([0, 0, 1]), tensor([0., 1., 5.]))"
      ]
     },
     "metadata": {},
     "execution_count": 23
    }
   ],
   "metadata": {}
  },
  {
   "cell_type": "code",
   "execution_count": 24,
   "source": [
    "min3.indices, min3.values"
   ],
   "outputs": [
    {
     "output_type": "execute_result",
     "data": {
      "text/plain": [
       "(tensor([0, 2]), tensor([0., 5.]))"
      ]
     },
     "metadata": {},
     "execution_count": 24
    }
   ],
   "metadata": {}
  },
  {
   "cell_type": "code",
   "execution_count": 25,
   "source": [
    "M = torch.Tensor(\r\n",
    "    [\r\n",
    "        [0, 1, 10],\r\n",
    "        [20, 8, 5]\r\n",
    "    ]\r\n",
    ")\r\n",
    "\r\n",
    "print(M)\r\n",
    "print(torch.argmin(M))\r\n",
    "print(torch.argmin(M, axis=0))\r\n",
    "print(torch.argmin(M, axis=1))"
   ],
   "outputs": [
    {
     "output_type": "stream",
     "name": "stdout",
     "text": [
      "tensor([[ 0.,  1., 10.],\n",
      "        [20.,  8.,  5.]])\n",
      "tensor(0)\n",
      "tensor([0, 0, 1])\n",
      "tensor([0, 2])\n"
     ]
    }
   ],
   "metadata": {}
  },
  {
   "cell_type": "markdown",
   "source": [
    "---\r\n",
    "# **Mean and variance**\r\n",
    "---"
   ],
   "metadata": {}
  },
  {
   "cell_type": "code",
   "execution_count": 26,
   "source": [
    "import numpy as np"
   ],
   "outputs": [],
   "metadata": {}
  },
  {
   "cell_type": "code",
   "execution_count": 27,
   "source": [
    "x = [ 1, 2, 4, 6, 5, 4, 0]\r\n",
    "\r\n",
    "print(np.mean(x))\r\n",
    "print( sum(x)/len(x) )"
   ],
   "outputs": [
    {
     "output_type": "stream",
     "name": "stdout",
     "text": [
      "3.142857142857143\n",
      "3.142857142857143\n"
     ]
    }
   ],
   "metadata": {}
  },
  {
   "cell_type": "code",
   "execution_count": 31,
   "source": [
    "print( np.var(x, ddof=1) )\r\n",
    "print( ( 1 / (len(x)-1) ) * np.sum((x - np.mean(x))**2) )"
   ],
   "outputs": [
    {
     "output_type": "stream",
     "name": "stdout",
     "text": [
      "4.809523809523809\n",
      "4.809523809523809\n"
     ]
    }
   ],
   "metadata": {}
  },
  {
   "cell_type": "markdown",
   "source": [
    "---\r\n",
    "# **Random sampling and sampling variability**\r\n",
    "---"
   ],
   "metadata": {}
  },
  {
   "cell_type": "code",
   "execution_count": 1,
   "source": [
    "import numpy as np\r\n",
    "import matplotlib.pyplot as plt"
   ],
   "outputs": [],
   "metadata": {}
  },
  {
   "cell_type": "code",
   "execution_count": 32,
   "source": [
    "x = [1, 2, 3, 4, -1, -5, 0, 1, 4, 9, 6, -9, 6, -4, 2, 1]\r\n",
    "n = len(x)\r\n",
    "\r\n",
    "popMean = sum(x)/n\r\n",
    "\r\n",
    "sample = np.random.choice(x, size=5, replace=True)\r\n",
    "sampleMean = np.mean(sample)\r\n",
    "\r\n",
    "print(popMean)\r\n",
    "print(sampleMean)"
   ],
   "outputs": [
    {
     "output_type": "stream",
     "name": "stdout",
     "text": [
      "1.25\n",
      "0.2\n"
     ]
    }
   ],
   "metadata": {}
  },
  {
   "cell_type": "code",
   "execution_count": 35,
   "source": [
    "nExpers = 1000\r\n",
    "\r\n",
    "sampleMeans = np.zeros(nExpers)\r\n",
    "\r\n",
    "for i in range(nExpers):\r\n",
    "    sample = np.random.choice(x, size=5, replace=True)\r\n",
    "    sampleMeans[i] = np.mean(sample)\r\n",
    "\r\n",
    "meanSampleMeans = np.mean(sampleMeans)\r\n",
    "\r\n",
    "plt.hist(sampleMeans, bins=40, density=True)\r\n",
    "plt.plot([popMean, popMean], [0, .3], 'm--')\r\n",
    "plt.plot([meanSampleMeans, meanSampleMeans], [0, .3], 'k--')\r\n",
    "plt.ylabel('Count')\r\n",
    "plt.xlabel('Sample means')\r\n",
    "plt.show()"
   ],
   "outputs": [
    {
     "output_type": "display_data",
     "data": {
      "image/png": "[encoded data removed]",
      "text/plain": [
       "<Figure size 432x288 with 1 Axes>"
      ]
     },
     "metadata": {
      "needs_background": "light"
     }
    }
   ],
   "metadata": {}
  }
 ],
 "metadata": {
  "orig_nbformat": 4,
  "language_info": {
   "name": "python",
   "version": "3.8.5",
   "mimetype": "text/x-python",
   "codemirror_mode": {
    "name": "ipython",
    "version": 3
   },
   "pygments_lexer": "ipython3",
   "nbconvert_exporter": "python",
   "file_extension": ".py"
  },
  "kernelspec": {
   "name": "python3",
   "display_name": "Python 3.8.5 64-bit ('base': conda)"
  },
  "interpreter": {
   "hash": "293c111297a61481508202fcd690d673b0775ece2d2d867b62b8842b676a9a30"
  }
 },
 "nbformat": 4,
 "nbformat_minor": 2
}