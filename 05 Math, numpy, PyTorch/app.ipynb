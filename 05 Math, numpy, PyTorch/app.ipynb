{
 "cells": [
  {
   "cell_type": "markdown",
   "source": [
    "---\r\n",
    "# **Vector and matrix transpose**\r\n",
    "---"
   ],
   "metadata": {}
  },
  {
   "cell_type": "markdown",
   "source": [
    "## Import"
   ],
   "metadata": {}
  },
  {
   "cell_type": "code",
   "execution_count": 21,
   "source": [
    "import torch\r\n",
    "torch. __version__"
   ],
   "outputs": [
    {
     "output_type": "execute_result",
     "data": {
      "text/plain": [
       "'1.8.1'"
      ]
     },
     "metadata": {},
     "execution_count": 21
    }
   ],
   "metadata": {}
  },
  {
   "cell_type": "code",
   "execution_count": 22,
   "source": [
    "import numpy as np"
   ],
   "outputs": [],
   "metadata": {}
  },
  {
   "cell_type": "markdown",
   "source": [
    "## Numpy"
   ],
   "metadata": {}
  },
  {
   "cell_type": "code",
   "execution_count": 27,
   "source": [
    "nv = np.array([[1, 2, 3]])\r\n",
    "\r\n",
    "nvT = nv.T\r\n",
    "\r\n",
    "print(nv, end='\\n\\n')\r\n",
    "print(nvT, end='\\n\\n')\r\n",
    "print(nvT.T, end='\\n\\n')"
   ],
   "outputs": [
    {
     "output_type": "stream",
     "name": "stdout",
     "text": [
      "[[1 2 3]]\n",
      "\n",
      "[[1]\n",
      " [2]\n",
      " [3]]\n",
      "\n",
      "[[1 2 3]]\n",
      "\n"
     ]
    }
   ],
   "metadata": {}
  },
  {
   "cell_type": "code",
   "execution_count": 31,
   "source": [
    "nM = np.array(\r\n",
    "    [\r\n",
    "        [1, 2, 3],\r\n",
    "        [4, 5, 6]\r\n",
    "    ]\r\n",
    ")\r\n",
    "\r\n",
    "nMT = nM.T\r\n",
    "\r\n",
    "print(nM, end='\\n\\n')\r\n",
    "print(nMT, end='\\n\\n')\r\n",
    "print(nMT.T, end='\\n\\n')"
   ],
   "outputs": [
    {
     "output_type": "stream",
     "name": "stdout",
     "text": [
      "[[1 2 3]\n",
      " [4 5 6]]\n",
      "\n",
      "[[1 4]\n",
      " [2 5]\n",
      " [3 6]]\n",
      "\n",
      "[[1 2 3]\n",
      " [4 5 6]]\n",
      "\n"
     ]
    }
   ],
   "metadata": {}
  },
  {
   "cell_type": "markdown",
   "source": [
    "## Pytorch"
   ],
   "metadata": {}
  },
  {
   "cell_type": "code",
   "execution_count": 32,
   "source": [
    "tv = torch.Tensor([[1, 2, 3]])\r\n",
    "\r\n",
    "tvT = tv.T\r\n",
    "\r\n",
    "print(tv, end='\\n\\n')\r\n",
    "print(tvT, end='\\n\\n')\r\n",
    "print(tvT.T, end='\\n\\n')"
   ],
   "outputs": [
    {
     "output_type": "stream",
     "name": "stdout",
     "text": [
      "tensor([[1., 2., 3.]])\n",
      "\n",
      "tensor([[1.],\n",
      "        [2.],\n",
      "        [3.]])\n",
      "\n",
      "tensor([[1., 2., 3.]])\n",
      "\n"
     ]
    }
   ],
   "metadata": {}
  },
  {
   "cell_type": "code",
   "execution_count": 33,
   "source": [
    "tM = torch.Tensor(\r\n",
    "    [\r\n",
    "        [1, 2, 3],\r\n",
    "        [4, 5, 6]\r\n",
    "    ]\r\n",
    ")\r\n",
    "\r\n",
    "tMT = tM.T\r\n",
    "\r\n",
    "print(tM, end='\\n\\n')\r\n",
    "print(tMT, end='\\n\\n')\r\n",
    "print(tMT.T, end='\\n\\n')"
   ],
   "outputs": [
    {
     "output_type": "stream",
     "name": "stdout",
     "text": [
      "tensor([[1., 2., 3.],\n",
      "        [4., 5., 6.]])\n",
      "\n",
      "tensor([[1., 4.],\n",
      "        [2., 5.],\n",
      "        [3., 6.]])\n",
      "\n",
      "tensor([[1., 2., 3.],\n",
      "        [4., 5., 6.]])\n",
      "\n"
     ]
    }
   ],
   "metadata": {}
  },
  {
   "cell_type": "markdown",
   "source": [
    "## Data types"
   ],
   "metadata": {}
  },
  {
   "cell_type": "code",
   "execution_count": 34,
   "source": [
    "print(f'Variable nv is of type {type(nv)}')\r\n",
    "print(f'Variable nM is of type {type(nM)}')\r\n",
    "print(f'Variable tv is of type {type(tv)}')\r\n",
    "print(f'Variable tM is of type {type(tM)}')"
   ],
   "outputs": [
    {
     "output_type": "stream",
     "name": "stdout",
     "text": [
      "Variable nv is of type <class 'numpy.ndarray'>\n",
      "Variable nM is of type <class 'numpy.ndarray'>\n",
      "Variable tv is of type <class 'torch.Tensor'>\n",
      "Variable tM is of type <class 'torch.Tensor'>\n"
     ]
    }
   ],
   "metadata": {}
  },
  {
   "cell_type": "markdown",
   "source": [
    "---\r\n",
    "# **The dot product**\r\n",
    "---"
   ],
   "metadata": {}
  },
  {
   "cell_type": "code",
   "execution_count": 1,
   "source": [
    "import numpy as np\r\n",
    "import torch"
   ],
   "outputs": [],
   "metadata": {}
  },
  {
   "cell_type": "markdown",
   "source": [
    "## Numpy"
   ],
   "metadata": {}
  },
  {
   "cell_type": "code",
   "execution_count": 2,
   "source": [
    "tv1 = np.array([1, 2, 3, 4])\r\n",
    "tv2 = np.array([0, 1, 0, -1])\r\n",
    "\r\n",
    "print(np.dot(tv1, tv2))\r\n",
    "print(np.sum(tv1*tv2))"
   ],
   "outputs": [
    {
     "output_type": "stream",
     "name": "stdout",
     "text": [
      "-2\n",
      "-2\n"
     ]
    }
   ],
   "metadata": {}
  },
  {
   "cell_type": "markdown",
   "source": [
    "## PyTorch"
   ],
   "metadata": {}
  },
  {
   "cell_type": "code",
   "execution_count": 3,
   "source": [
    "tv1 = torch.tensor([1, 2, 3, 4])\r\n",
    "tv2 = torch.tensor([0, 1, 0, -1])\r\n",
    "\r\n",
    "print(torch.dot(tv1, tv2))\r\n",
    "print(torch.sum(tv1*tv2))"
   ],
   "outputs": [
    {
     "output_type": "stream",
     "name": "stdout",
     "text": [
      "tensor(-2)\n",
      "tensor(-2)\n"
     ]
    }
   ],
   "metadata": {}
  },
  {
   "cell_type": "markdown",
   "source": [
    "---\r\n",
    "# **Matrix multiplication**\r\n",
    "---"
   ],
   "metadata": {}
  },
  {
   "cell_type": "code",
   "execution_count": 4,
   "source": [
    "import numpy as np\r\n",
    "import torch"
   ],
   "outputs": [],
   "metadata": {}
  },
  {
   "cell_type": "markdown",
   "source": [
    "## Numpy"
   ],
   "metadata": {}
  },
  {
   "cell_type": "code",
   "execution_count": 9,
   "source": [
    "# np.matmul(A, B) == A@B\r\n",
    "\r\n",
    "A = np.random.randn(3,4)\r\n",
    "B = np.random.randn(4,5)\r\n",
    "C = np.random.randn(3,7)\r\n",
    "\r\n",
    "print(np.round(A@B, 2), end='\\n\\n')\r\n",
    "print(np.round(C.T@A, 2))"
   ],
   "outputs": [
    {
     "output_type": "stream",
     "name": "stdout",
     "text": [
      "[[-0.22  1.31 -0.31  1.07  2.45]\n",
      " [-0.88 -1.36  3.72  2.11 -2.83]\n",
      " [ 0.39  0.96 -0.67  1.12  2.87]]\n",
      "\n",
      "[[-2.33 -0.19 -1.24  0.17]\n",
      " [-1.01 -0.36 -0.48  0.02]\n",
      " [ 0.26  1.12  1.05 -0.09]\n",
      " [ 0.56  0.04  0.4  -0.07]\n",
      " [-2.83  1.91  0.14  0.1 ]\n",
      " [-2.77 -1.41 -2.15  0.21]\n",
      " [ 2.6  -0.1   0.52 -0.02]]\n"
     ]
    }
   ],
   "metadata": {}
  },
  {
   "cell_type": "markdown",
   "source": [
    "## PyTorch"
   ],
   "metadata": {}
  },
  {
   "cell_type": "code",
   "execution_count": 15,
   "source": [
    "A = torch.randn(3,4)\r\n",
    "B = torch.randn(4,5)\r\n",
    "C1 = np.random.randn(4,7)\r\n",
    "C2 = torch.tensor(C1, dtype=torch.float)\r\n",
    "\r\n",
    "print(np.round(A@B), end='\\n\\n')\r\n",
    "print(np.round(A@C1), end='\\n\\n')\r\n",
    "print(np.round(A@C2))"
   ],
   "outputs": [
    {
     "output_type": "stream",
     "name": "stdout",
     "text": [
      "tensor([[ 1., -2.,  1., -2.,  1.],\n",
      "        [ 2., -2.,  1., -2., -1.],\n",
      "        [-2.,  1.,  1., -2.,  0.]])\n",
      "\n",
      "tensor([[-0.,  2.,  1.,  2., -3.,  1.,  3.],\n",
      "        [-1.,  1.,  2.,  3.,  2.,  1.,  1.],\n",
      "        [ 1., -2., -2., -2.,  1., -1.,  0.]], dtype=torch.float64)\n",
      "\n",
      "tensor([[-0.,  2.,  1.,  2., -3.,  1.,  3.],\n",
      "        [-1.,  1.,  2.,  3.,  2.,  1.,  1.],\n",
      "        [ 1., -2., -2., -2.,  1., -1.,  0.]])\n"
     ]
    }
   ],
   "metadata": {}
  },
  {
   "cell_type": "markdown",
   "source": [
    "---\r\n",
    "# **Softmax**\r\n",
    "---"
   ],
   "metadata": {}
  },
  {
   "cell_type": "code",
   "execution_count": 2,
   "source": [
    "import numpy as np\r\n",
    "import torch\r\n",
    "import torch.nn as nn\r\n",
    "import matplotlib.pyplot as plt"
   ],
   "outputs": [],
   "metadata": {}
  },
  {
   "cell_type": "markdown",
   "source": [
    "## Numpy"
   ],
   "metadata": {}
  },
  {
   "cell_type": "code",
   "execution_count": 41,
   "source": [
    "z = [1, 2, 3]\r\n",
    "\r\n",
    "num = np.exp(z)\r\n",
    "den = np.sum(np.exp(z))\r\n",
    "sigma = num / den\r\n",
    "\r\n",
    "print(sigma)\r\n",
    "print(np.sum(sigma))"
   ],
   "outputs": [
    {
     "output_type": "stream",
     "name": "stdout",
     "text": [
      "[0.09003057 0.24472847 0.66524096]\n",
      "1.0\n"
     ]
    }
   ],
   "metadata": {}
  },
  {
   "cell_type": "code",
   "execution_count": 42,
   "source": [
    "z = np.random.randint(-5, 15, 25)\r\n",
    "\r\n",
    "num = np.exp(z)\r\n",
    "den = np.sum(np.exp(z))\r\n",
    "sigma1 = num / den"
   ],
   "outputs": [],
   "metadata": {}
  },
  {
   "cell_type": "code",
   "execution_count": 43,
   "source": [
    "plt.plot(z, sigma1, 'ko')\r\n",
    "plt.xlabel('Original number (z)')\r\n",
    "plt.ylabel('Softmax applied $\\sigma$ log')\r\n",
    "plt.title('$\\sum\\sigma$ = %g' %np.sum(sigma))\r\n",
    "plt.yscale('log')\r\n",
    "plt.show()"
   ],
   "outputs": [
    {
     "output_type": "display_data",
     "data": {
      "image/png": "[encoded data removed]",
      "text/plain": [
       "<Figure size 432x288 with 1 Axes>"
      ]
     },
     "metadata": {
      "needs_background": "light"
     }
    }
   ],
   "metadata": {}
  },
  {
   "cell_type": "markdown",
   "source": [
    "## PyTorch"
   ],
   "metadata": {}
  },
  {
   "cell_type": "code",
   "execution_count": 45,
   "source": [
    "z = [1, 2, 3]\r\n",
    "\r\n",
    "softmax = nn.Softmax(dim=0)\r\n",
    "\r\n",
    "sigmaT = softmax( torch.Tensor(z) )\r\n",
    "\r\n",
    "print(sigmaT)"
   ],
   "outputs": [
    {
     "output_type": "stream",
     "name": "stdout",
     "text": [
      "tensor([0.0900, 0.2447, 0.6652])\n"
     ]
    }
   ],
   "metadata": {}
  },
  {
   "cell_type": "markdown",
   "source": [
    "## Compare results"
   ],
   "metadata": {}
  },
  {
   "cell_type": "code",
   "execution_count": 50,
   "source": [
    "r = np.corrcoef(sigma, sigmaT)[0, 1]\r\n",
    "\r\n",
    "print(f'The two methods correlate at r = {r}')"
   ],
   "outputs": [
    {
     "output_type": "stream",
     "name": "stdout",
     "text": [
      "The two methods correlate at r = 1.0\n"
     ]
    }
   ],
   "metadata": {}
  },
  {
   "cell_type": "markdown",
   "source": [
    "---\r\n",
    "# **Logarithms**\r\n",
    "---"
   ],
   "metadata": {}
  },
  {
   "cell_type": "code",
   "execution_count": 1,
   "source": [
    "import numpy as np\r\n",
    "import matplotlib.pyplot as plt"
   ],
   "outputs": [],
   "metadata": {}
  },
  {
   "cell_type": "code",
   "execution_count": 2,
   "source": [
    "x = np.linspace(0.0001, 1, 200)\r\n",
    "logx = np.log(x)\r\n",
    "\r\n",
    "fig = plt.figure(figsize=(10,4))\r\n",
    "plt.rcParams.update({'font.size':15})\r\n",
    "\r\n",
    "plt.plot(x, logx, 'ks-', markerfacecolor='w')\r\n",
    "plt.ylabel('log(x)')\r\n",
    "plt.xlabel('x')\r\n",
    "plt.show()"
   ],
   "outputs": [
    {
     "output_type": "display_data",
     "data": {
      "image/png": "[encoded data removed]",
      "text/plain": [
       "<Figure size 720x288 with 1 Axes>"
      ]
     },
     "metadata": {
      "needs_background": "light"
     }
    }
   ],
   "metadata": {}
  },
  {
   "cell_type": "code",
   "execution_count": 3,
   "source": [
    "x = np.linspace(0.0001, 1, 20)\r\n",
    "\r\n",
    "logx = np.log(x)\r\n",
    "expx = np.exp(x)\r\n",
    "\r\n",
    "plt.plot(x, x, color=[.8, .8, .8])\r\n",
    "plt.plot(x, np.exp(logx), 'o', markersize=8)\r\n",
    "plt.plot(x, np.log(expx), 'x', markersize=8)\r\n",
    "plt.ylabel('f(g(x))')\r\n",
    "plt.xlabel('x')\r\n",
    "plt.legend(['unity', 'exp(logx)', 'log(expx)'])\r\n",
    "plt.show()"
   ],
   "outputs": [
    {
     "output_type": "display_data",
     "data": {
      "image/png": "[encoded data removed]",
      "text/plain": [
       "<Figure size 432x288 with 1 Axes>"
      ]
     },
     "metadata": {
      "needs_background": "light"
     }
    }
   ],
   "metadata": {}
  },
  {
   "cell_type": "markdown",
   "source": [
    "---\r\n",
    "# **Entropy and cross-entropy**\r\n",
    "---"
   ],
   "metadata": {}
  },
  {
   "cell_type": "markdown",
   "source": [
    "## Numpy"
   ],
   "metadata": {}
  },
  {
   "cell_type": "code",
   "execution_count": 3,
   "source": [
    "import numpy as np"
   ],
   "outputs": [],
   "metadata": {}
  },
  {
   "cell_type": "markdown",
   "source": [
    "### Binary entropy (only two events)"
   ],
   "metadata": {}
  },
  {
   "cell_type": "code",
   "execution_count": 4,
   "source": [
    "x = [ .25, .75]\r\n",
    "\r\n",
    "H = 0\r\n",
    "\r\n",
    "for p in x:\r\n",
    "    H -= p*np.log(p)\r\n",
    "\r\n",
    "print(f'Entropy : {H}')"
   ],
   "outputs": [
    {
     "output_type": "stream",
     "name": "stdout",
     "text": [
      "Entropy : 0.5623351446188083\n"
     ]
    }
   ],
   "metadata": {}
  },
  {
   "cell_type": "code",
   "execution_count": 6,
   "source": [
    "p = .25\r\n",
    "H = - (p*np.log(p) + (1-p)*np.log(1-p))\r\n",
    "print(f'Entropy : {H}')"
   ],
   "outputs": [
    {
     "output_type": "stream",
     "name": "stdout",
     "text": [
      "Entropy : 0.5623351446188083\n"
     ]
    }
   ],
   "metadata": {}
  },
  {
   "cell_type": "markdown",
   "source": [
    "### Cross-entropy"
   ],
   "metadata": {}
  },
  {
   "cell_type": "code",
   "execution_count": 10,
   "source": [
    "p = [ 1, 0] # sum=1, (is cat or not cat)\r\n",
    "q = [.25, .75] # sum=1, (model prediction cat)\r\n",
    "\r\n",
    "H = 0\r\n",
    "\r\n",
    "for i in range(len(p)):\r\n",
    "    H -= p[i]*np.log(q[i])\r\n",
    "\r\n",
    "print(f'Cross-entropy : {H}')"
   ],
   "outputs": [
    {
     "output_type": "stream",
     "name": "stdout",
     "text": [
      "Entropy : 1.3862943611198906\n"
     ]
    }
   ],
   "metadata": {}
  },
  {
   "cell_type": "code",
   "execution_count": 14,
   "source": [
    "H = - (p[0]*np.log(q[0]) + p[1]*np.log(q[1]))\r\n",
    "print(f'Cross-entropy : {H}')\r\n",
    "\r\n",
    "# simplification p[1] = 0, p[1] = 1\r\n",
    "H = -np.log(q[0])\r\n",
    "print(f'Cross-entropy : {H}')"
   ],
   "outputs": [
    {
     "output_type": "stream",
     "name": "stdout",
     "text": [
      "Cross-entropy : 1.3862943611198906\n",
      "Cross-entropy : 1.3862943611198906\n"
     ]
    }
   ],
   "metadata": {}
  },
  {
   "cell_type": "markdown",
   "source": [
    "## PyTorch"
   ],
   "metadata": {}
  },
  {
   "cell_type": "code",
   "execution_count": 15,
   "source": [
    "import torch\r\n",
    "import torch.nn.functional as F"
   ],
   "outputs": [],
   "metadata": {}
  },
  {
   "cell_type": "code",
   "execution_count": 19,
   "source": [
    "p_tensor = torch.Tensor([1, 0])\r\n",
    "q_tensor = torch.Tensor([.25, .75])\r\n",
    "\r\n",
    "F.binary_cross_entropy(q_tensor, p_tensor)"
   ],
   "outputs": [
    {
     "output_type": "execute_result",
     "data": {
      "text/plain": [
       "tensor(1.3863)"
      ]
     },
     "metadata": {},
     "execution_count": 19
    }
   ],
   "metadata": {}
  },
  {
   "cell_type": "markdown",
   "source": [
    "---\r\n",
    "# **Min_max and argmin_argmax**\r\n",
    "---"
   ],
   "metadata": {}
  },
  {
   "cell_type": "code",
   "execution_count": 17,
   "source": [
    "import numpy as np\r\n",
    "import torch"
   ],
   "outputs": [],
   "metadata": {}
  },
  {
   "cell_type": "markdown",
   "source": [
    "## Numpy"
   ],
   "metadata": {}
  },
  {
   "cell_type": "code",
   "execution_count": 18,
   "source": [
    "v = np.array([1, 20, 2, -3])\r\n",
    "\r\n",
    "print(v)\r\n",
    "\r\n",
    "print(f'Min : {np.min(v)}, Max : {np.max(v)}')\r\n",
    "\r\n",
    "minIndex = np.argmin(v)\r\n",
    "maxIndex = np.argmax(v)\r\n",
    "\r\n",
    "print(f'Min Index : {minIndex}, Max Index : {maxIndex}')\r\n",
    "print(f'Min : {v[minIndex]}, Max : {v[maxIndex]}')"
   ],
   "outputs": [
    {
     "output_type": "stream",
     "name": "stdout",
     "text": [
      "[ 1 20  2 -3]\n",
      "Min : -3, Max : 20\n",
      "Min Index : 3, Max Index : 1\n",
      "Min : -3, Max : 20\n"
     ]
    }
   ],
   "metadata": {}
  },
  {
   "cell_type": "code",
   "execution_count": 19,
   "source": [
    "M = np.array(\r\n",
    "    [\r\n",
    "        [0, 1, 10],\r\n",
    "        [20, 8, 5]\r\n",
    "    ]\r\n",
    ")\r\n",
    "\r\n",
    "print(M)\r\n",
    "print(np.min(M))\r\n",
    "print(np.min(M, axis=0))\r\n",
    "print(np.min(M, axis=1))"
   ],
   "outputs": [
    {
     "output_type": "stream",
     "name": "stdout",
     "text": [
      "[[ 0  1 10]\n",
      " [20  8  5]]\n",
      "0\n",
      "[0 1 5]\n",
      "[0 5]\n"
     ]
    }
   ],
   "metadata": {}
  },
  {
   "cell_type": "code",
   "execution_count": 20,
   "source": [
    "M = np.array(\r\n",
    "    [\r\n",
    "        [0, 1, 10],\r\n",
    "        [20, 8, 5]\r\n",
    "    ]\r\n",
    ")\r\n",
    "\r\n",
    "print(M)\r\n",
    "print(np.argmin(M))\r\n",
    "print(np.argmin(M, axis=0))\r\n",
    "print(np.argmin(M, axis=1))"
   ],
   "outputs": [
    {
     "output_type": "stream",
     "name": "stdout",
     "text": [
      "[[ 0  1 10]\n",
      " [20  8  5]]\n",
      "0\n",
      "[0 0 1]\n",
      "[0 2]\n"
     ]
    }
   ],
   "metadata": {}
  },
  {
   "cell_type": "markdown",
   "source": [
    "## PyTorch"
   ],
   "metadata": {}
  },
  {
   "cell_type": "code",
   "execution_count": 21,
   "source": [
    "v = torch.Tensor([1, 20, 2, -3])\r\n",
    "\r\n",
    "print(v)\r\n",
    "\r\n",
    "print(f'Min : {torch.min(v)}, Max : {torch.max(v)}')\r\n",
    "\r\n",
    "minIndex = torch.argmin(v)\r\n",
    "maxIndex = torch.argmax(v)\r\n",
    "\r\n",
    "print(f'Min Index : {minIndex}, Max Index : {maxIndex}')\r\n",
    "print(f'Min : {v[minIndex]}, Max : {v[maxIndex]}')\r\n"
   ],
   "outputs": [
    {
     "output_type": "stream",
     "name": "stdout",
     "text": [
      "tensor([ 1., 20.,  2., -3.])\n",
      "Min : -3.0, Max : 20.0\n",
      "Min Index : 3, Max Index : 1\n",
      "Min : -3.0, Max : 20.0\n"
     ]
    }
   ],
   "metadata": {}
  },
  {
   "cell_type": "code",
   "execution_count": 22,
   "source": [
    "M = torch.Tensor(\r\n",
    "    [\r\n",
    "        [0, 1, 10],\r\n",
    "        [20, 8, 5]\r\n",
    "    ]\r\n",
    ")\r\n",
    "\r\n",
    "min1 = torch.min(M)\r\n",
    "min2 = torch.min(M, axis=0)\r\n",
    "min3 = torch.min(M, axis=1)\r\n",
    "\r\n",
    "print(min1)\r\n",
    "print(min2)\r\n",
    "print(min3)"
   ],
   "outputs": [
    {
     "output_type": "stream",
     "name": "stdout",
     "text": [
      "tensor(0.)\n",
      "torch.return_types.min(\n",
      "values=tensor([0., 1., 5.]),\n",
      "indices=tensor([0, 0, 1]))\n",
      "torch.return_types.min(\n",
      "values=tensor([0., 5.]),\n",
      "indices=tensor([0, 2]))\n"
     ]
    }
   ],
   "metadata": {}
  },
  {
   "cell_type": "code",
   "execution_count": 23,
   "source": [
    "min2.indices, min2.values"
   ],
   "outputs": [
    {
     "output_type": "execute_result",
     "data": {
      "text/plain": [
       "(tensor([0, 0, 1]), tensor([0., 1., 5.]))"
      ]
     },
     "metadata": {},
     "execution_count": 23
    }
   ],
   "metadata": {}
  },
  {
   "cell_type": "code",
   "execution_count": 24,
   "source": [
    "min3.indices, min3.values"
   ],
   "outputs": [
    {
     "output_type": "execute_result",
     "data": {
      "text/plain": [
       "(tensor([0, 2]), tensor([0., 5.]))"
      ]
     },
     "metadata": {},
     "execution_count": 24
    }
   ],
   "metadata": {}
  },
  {
   "cell_type": "code",
   "execution_count": 25,
   "source": [
    "M = torch.Tensor(\r\n",
    "    [\r\n",
    "        [0, 1, 10],\r\n",
    "        [20, 8, 5]\r\n",
    "    ]\r\n",
    ")\r\n",
    "\r\n",
    "print(M)\r\n",
    "print(torch.argmin(M))\r\n",
    "print(torch.argmin(M, axis=0))\r\n",
    "print(torch.argmin(M, axis=1))"
   ],
   "outputs": [
    {
     "output_type": "stream",
     "name": "stdout",
     "text": [
      "tensor([[ 0.,  1., 10.],\n",
      "        [20.,  8.,  5.]])\n",
      "tensor(0)\n",
      "tensor([0, 0, 1])\n",
      "tensor([0, 2])\n"
     ]
    }
   ],
   "metadata": {}
  },
  {
   "cell_type": "markdown",
   "source": [
    "---\r\n",
    "# **Mean and variance**\r\n",
    "---"
   ],
   "metadata": {}
  },
  {
   "cell_type": "code",
   "execution_count": 26,
   "source": [
    "import numpy as np"
   ],
   "outputs": [],
   "metadata": {}
  },
  {
   "cell_type": "code",
   "execution_count": 27,
   "source": [
    "x = [ 1, 2, 4, 6, 5, 4, 0]\r\n",
    "\r\n",
    "print(np.mean(x))\r\n",
    "print( sum(x)/len(x) )"
   ],
   "outputs": [
    {
     "output_type": "stream",
     "name": "stdout",
     "text": [
      "3.142857142857143\n",
      "3.142857142857143\n"
     ]
    }
   ],
   "metadata": {}
  },
  {
   "cell_type": "code",
   "execution_count": 31,
   "source": [
    "print( np.var(x, ddof=1) )\r\n",
    "print( ( 1 / (len(x)-1) ) * np.sum((x - np.mean(x))**2) )"
   ],
   "outputs": [
    {
     "output_type": "stream",
     "name": "stdout",
     "text": [
      "4.809523809523809\n",
      "4.809523809523809\n"
     ]
    }
   ],
   "metadata": {}
  },
  {
   "cell_type": "markdown",
   "source": [
    "---\r\n",
    "# **Random sampling and sampling variability**\r\n",
    "---"
   ],
   "metadata": {}
  },
  {
   "cell_type": "code",
   "execution_count": 1,
   "source": [
    "import numpy as np\r\n",
    "import matplotlib.pyplot as plt"
   ],
   "outputs": [],
   "metadata": {}
  },
  {
   "cell_type": "code",
   "execution_count": 32,
   "source": [
    "x = [1, 2, 3, 4, -1, -5, 0, 1, 4, 9, 6, -9, 6, -4, 2, 1]\r\n",
    "n = len(x)\r\n",
    "\r\n",
    "popMean = sum(x)/n\r\n",
    "\r\n",
    "sample = np.random.choice(x, size=5, replace=True)\r\n",
    "sampleMean = np.mean(sample)\r\n",
    "\r\n",
    "print(popMean)\r\n",
    "print(sampleMean)"
   ],
   "outputs": [
    {
     "output_type": "stream",
     "name": "stdout",
     "text": [
      "1.25\n",
      "0.2\n"
     ]
    }
   ],
   "metadata": {}
  },
  {
   "cell_type": "code",
   "execution_count": 35,
   "source": [
    "nExpers = 1000\r\n",
    "\r\n",
    "sampleMeans = np.zeros(nExpers)\r\n",
    "\r\n",
    "for i in range(nExpers):\r\n",
    "    sample = np.random.choice(x, size=5, replace=True)\r\n",
    "    sampleMeans[i] = np.mean(sample)\r\n",
    "\r\n",
    "meanSampleMeans = np.mean(sampleMeans)\r\n",
    "\r\n",
    "plt.hist(sampleMeans, bins=40, density=True)\r\n",
    "plt.plot([popMean, popMean], [0, .3], 'm--')\r\n",
    "plt.plot([meanSampleMeans, meanSampleMeans], [0, .3], 'k--')\r\n",
    "plt.ylabel('Count')\r\n",
    "plt.xlabel('Sample means')\r\n",
    "plt.show()"
   ],
   "outputs": [
    {
     "output_type": "display_data",
     "data": {
      "image/png": "[encoded data removed]",
      "text/plain": [
       "<Figure size 432x288 with 1 Axes>"
      ]
     },
     "metadata": {
      "needs_background": "light"
     }
    }
   ],
   "metadata": {}
  },
  {
   "cell_type": "markdown",
   "source": [
    "---\r\n",
    "# **Reproducible randomness via seeding**\r\n",
    "---"
   ],
   "metadata": {}
  },
  {
   "cell_type": "markdown",
   "source": [
    "## Numpy"
   ],
   "metadata": {}
  },
  {
   "cell_type": "code",
   "execution_count": 1,
   "source": [
    "import numpy as np"
   ],
   "outputs": [],
   "metadata": {}
  },
  {
   "cell_type": "code",
   "execution_count": 3,
   "source": [
    "np.random.randn(5)"
   ],
   "outputs": [
    {
     "output_type": "execute_result",
     "data": {
      "text/plain": [
       "array([-1.29748785,  0.07430313,  0.52634025,  0.72983309,  0.8857498 ])"
      ]
     },
     "metadata": {},
     "execution_count": 3
    }
   ],
   "metadata": {}
  },
  {
   "cell_type": "code",
   "execution_count": 6,
   "source": [
    "# old method of set seed\r\n",
    "np.random.seed(17)\r\n",
    "print(np.random.randn(5))\r\n",
    "print(np.random.randn(5))\r\n",
    "\r\n",
    "#[ 0.27626589 -1.85462808  0.62390111  1.14531129  1.03719047]\r\n",
    "#[ 1.88663893 -0.11169829 -0.36210134  0.14867505 -0.43778315]"
   ],
   "outputs": [
    {
     "output_type": "stream",
     "name": "stdout",
     "text": [
      "[ 0.27626589 -1.85462808  0.62390111  1.14531129  1.03719047]\n",
      "[ 1.88663893 -0.11169829 -0.36210134  0.14867505 -0.43778315]\n"
     ]
    }
   ],
   "metadata": {}
  },
  {
   "cell_type": "code",
   "execution_count": 24,
   "source": [
    "# new method\r\n",
    "\r\n",
    "randseed1 = np.random.RandomState(17)\r\n",
    "randseed2 = np.random.RandomState(245)\r\n",
    "\r\n",
    "print(randseed1.randn(5))\r\n",
    "print(randseed2.randn(5))\r\n",
    "print(randseed1.randn(5))\r\n",
    "print(randseed2.randn(5))\r\n",
    "print(np.random.randn(5))\r\n",
    "\r\n",
    "# [ 0.27626589 -1.85462808  0.62390111  1.14531129  1.03719047]\r\n",
    "# [-0.23276742  0.81853041 -0.97334932 -0.09361855  1.22394124]\r\n",
    "# [ 1.88663893 -0.11169829 -0.36210134  0.14867505 -0.43778315]\r\n",
    "# [-0.83015668  0.70625833  0.14231432  0.07152523 -0.54676696]\r\n",
    "# [ 2.171257    1.15231025 -1.81881234 -0.13804934  0.53983961]\r\n"
   ],
   "outputs": [
    {
     "output_type": "stream",
     "name": "stdout",
     "text": [
      "[ 0.27626589 -1.85462808  0.62390111  1.14531129  1.03719047]\n",
      "[-0.23276742  0.81853041 -0.97334932 -0.09361855  1.22394124]\n",
      "[ 1.88663893 -0.11169829 -0.36210134  0.14867505 -0.43778315]\n",
      "[-0.83015668  0.70625833  0.14231432  0.07152523 -0.54676696]\n",
      "[ 1.13072645  0.56003969 -0.6183973  -0.22479872  2.21590145]\n"
     ]
    }
   ],
   "metadata": {}
  },
  {
   "cell_type": "markdown",
   "source": [
    "## PyTorch"
   ],
   "metadata": {}
  },
  {
   "cell_type": "code",
   "execution_count": 25,
   "source": [
    "import torch"
   ],
   "outputs": [],
   "metadata": {}
  },
  {
   "cell_type": "code",
   "execution_count": 28,
   "source": [
    "torch.randn(5)"
   ],
   "outputs": [
    {
     "output_type": "execute_result",
     "data": {
      "text/plain": [
       "tensor([ 0.4549,  0.6891, -1.0987, -1.9922,  1.1948])"
      ]
     },
     "metadata": {},
     "execution_count": 28
    }
   ],
   "metadata": {}
  },
  {
   "cell_type": "code",
   "execution_count": 39,
   "source": [
    "torch.manual_seed(17)\r\n",
    "\r\n",
    "print(torch.randn(5))\r\n",
    "print(torch.randn(5))\r\n",
    "\r\n",
    "# tensor([-1.4135,  0.2336,  0.0340,  0.3499, -0.0145])\r\n",
    "# tensor([-0.6124, -1.1835, -1.4831,  1.8004,  0.0096])"
   ],
   "outputs": [
    {
     "output_type": "stream",
     "name": "stdout",
     "text": [
      "tensor([-1.4135,  0.2336,  0.0340,  0.3499, -0.0145])\n",
      "tensor([-0.6124, -1.1835, -1.4831,  1.8004,  0.0096])\n"
     ]
    }
   ],
   "metadata": {}
  },
  {
   "cell_type": "markdown",
   "source": [
    "---\r\n",
    "# **The t-test**\r\n",
    "---"
   ],
   "metadata": {}
  },
  {
   "cell_type": "code",
   "execution_count": 40,
   "source": [
    "import numpy as np\r\n",
    "import matplotlib.pyplot as plt\r\n",
    "from scipy import stats"
   ],
   "outputs": [],
   "metadata": {}
  },
  {
   "cell_type": "code",
   "execution_count": 41,
   "source": [
    "n1, n2 = 30, 40\r\n",
    "mu1, mu2 = 1, 2\r\n",
    "\r\n",
    "data1 = np.random.randn(n1) + mu1\r\n",
    "data2 = np.random.randn(n2) + mu2\r\n",
    "\r\n",
    "t, p = stats.ttest_ind(data1, data2)\r\n",
    "\r\n",
    "print(t, p)"
   ],
   "outputs": [
    {
     "output_type": "stream",
     "name": "stdout",
     "text": [
      "-3.8678360513931356 0.00024834934523388025\n"
     ]
    }
   ],
   "metadata": {}
  },
  {
   "cell_type": "code",
   "execution_count": 47,
   "source": [
    "fig = plt.figure(figsize=(10, 4))\r\n",
    "plt.rcParams.update({ 'font.size': 12 })\r\n",
    "\r\n",
    "plt.plot(0+np.random.randn(n1)/15, data1, 'ro', markerfacecolor='w', markersize=14)\r\n",
    "plt.plot(1+np.random.randn(n2)/15, data2, 'bs', markerfacecolor='w', markersize=14)\r\n",
    "plt.xlim([-1, 2])\r\n",
    "plt.xticks([0, 1], labels=['Group 1', 'Group 2'])\r\n",
    "plt.title(f't = {t:.3f}, p = {p:.4f}')\r\n",
    "plt.show()"
   ],
   "outputs": [
    {
     "output_type": "display_data",
     "data": {
      "image/png": "[encoded data removed]",
      "text/plain": [
       "<Figure size 720x288 with 1 Axes>"
      ]
     },
     "metadata": {
      "needs_background": "light"
     }
    }
   ],
   "metadata": {}
  },
  {
   "cell_type": "markdown",
   "source": [
    "---\r\n",
    "# **Derivatives_ intuition and polynomials**\r\n",
    "---"
   ],
   "metadata": {}
  },
  {
   "cell_type": "code",
   "execution_count": 9,
   "source": [
    "import numpy as np\r\n",
    "import matplotlib.pyplot as plt\r\n",
    "import sympy as sym\r\n",
    "import sympy.plotting.plot as symplot"
   ],
   "outputs": [],
   "metadata": {}
  },
  {
   "cell_type": "code",
   "execution_count": 10,
   "source": [
    "x = sym.symbols('x')\r\n",
    "\r\n",
    "fx = 2*x**2 # 2x^2\r\n",
    "\r\n",
    "df = sym.diff(fx, x)\r\n",
    "\r\n",
    "print(fx)\r\n",
    "print(df)"
   ],
   "outputs": [
    {
     "output_type": "stream",
     "name": "stdout",
     "text": [
      "2*x**2\n",
      "4*x\n"
     ]
    }
   ],
   "metadata": {}
  },
  {
   "cell_type": "code",
   "execution_count": 11,
   "source": [
    "symplot(fx, (x, -4, 4), title='The function')\r\n",
    "plt.show()\r\n",
    "\r\n",
    "symplot(df, (x, -4, 4), title='Derivative')\r\n",
    "plt.show()"
   ],
   "outputs": [
    {
     "output_type": "display_data",
     "data": {
      "image/png": "[encoded data removed]",
      "text/plain": [
       "<Figure size 432x288 with 1 Axes>"
      ]
     },
     "metadata": {
      "needs_background": "light"
     }
    },
    {
     "output_type": "display_data",
     "data": {
      "image/png": "[encoded data removed]",
      "text/plain": [
       "<Figure size 432x288 with 1 Axes>"
      ]
     },
     "metadata": {
      "needs_background": "light"
     }
    }
   ],
   "metadata": {}
  },
  {
   "cell_type": "code",
   "execution_count": 14,
   "source": [
    "relu = sym.Max(0, x)\r\n",
    "sigmoid = 1 / (1+sym.exp(-x))\r\n",
    "\r\n",
    "p = symplot(relu, (x, -4, 4), label='ReLU', show=False, line_color='blue')\r\n",
    "p.extend(symplot(sigmoid, (x, -4, 4), label='Sigmoid', show=False, line_color='red'))\r\n",
    "p.legend = True\r\n",
    "p.title = 'Function'\r\n",
    "p.show()\r\n",
    "\r\n",
    "p = symplot(sym.diff(relu), (x, -4, 4), label='df(ReLU)', show=False, line_color='blue')\r\n",
    "p.extend(symplot(sym.diff(sigmoid), (x, -4, 4), label='df(Sigmoid)', show=False, line_color='red'))\r\n",
    "p.legend = True\r\n",
    "p.title = 'Derivative'\r\n",
    "p.show()"
   ],
   "outputs": [
    {
     "output_type": "display_data",
     "data": {
      "image/png": "[encoded data removed]",
      "text/plain": [
       "<Figure size 432x288 with 1 Axes>"
      ]
     },
     "metadata": {
      "needs_background": "light"
     }
    },
    {
     "output_type": "display_data",
     "data": {
      "image/png": "[encoded data removed]",
      "text/plain": [
       "<Figure size 432x288 with 1 Axes>"
      ]
     },
     "metadata": {
      "needs_background": "light"
     }
    }
   ],
   "metadata": {}
  },
  {
   "cell_type": "markdown",
   "source": [
    "---\r\n",
    "# **Derivatives_ product and chain rules**\r\n",
    "---"
   ],
   "metadata": {}
  },
  {
   "cell_type": "markdown",
   "source": [
    "## **Import**"
   ],
   "metadata": {}
  },
  {
   "cell_type": "code",
   "execution_count": 1,
   "source": [
    "import numpy as np\r\n",
    "import sympy as sym\r\n",
    "from IPython.display import display"
   ],
   "outputs": [],
   "metadata": {}
  },
  {
   "cell_type": "markdown",
   "source": [
    "## **Product rule**"
   ],
   "metadata": {}
  },
  {
   "cell_type": "code",
   "execution_count": 11,
   "source": [
    "x = sym.symbols('x')\r\n",
    "\r\n",
    "fx = 2*x**2\r\n",
    "gx = 4*x**3 - 3*x**4\r\n",
    "\r\n",
    "df = sym.diff(fx)\r\n",
    "dg = sym.diff(gx)\r\n",
    "\r\n",
    "dfxgx = ( fx*dg ) + ( gx*df )\r\n",
    "\r\n",
    "print('f(x) : ')\r\n",
    "display(fx)\r\n",
    "print('g(x) : ')\r\n",
    "display(gx)\r\n",
    "\r\n",
    "print(\"f(x)' : \")\r\n",
    "display(df)\r\n",
    "print(\"g(x)' : \")\r\n",
    "display(dg)\r\n",
    "\r\n",
    "print(\"( f(x)*g(x) )' : \")\r\n",
    "display(dfxgx)\r\n",
    "print(\"( f(x)*g(x) )' : \")\r\n",
    "display( sym.diff( fx*gx ) )"
   ],
   "outputs": [
    {
     "output_type": "stream",
     "name": "stdout",
     "text": [
      "f(x) : \n"
     ]
    },
    {
     "output_type": "display_data",
     "data": {
      "text/latex": [
       "$\\displaystyle 2 x^{2}$"
      ],
      "text/plain": [
       "2*x**2"
      ]
     },
     "metadata": {}
    },
    {
     "output_type": "stream",
     "name": "stdout",
     "text": [
      "g(x) : \n"
     ]
    },
    {
     "output_type": "display_data",
     "data": {
      "text/latex": [
       "$\\displaystyle - 3 x^{4} + 4 x^{3}$"
      ],
      "text/plain": [
       "-3*x**4 + 4*x**3"
      ]
     },
     "metadata": {}
    },
    {
     "output_type": "stream",
     "name": "stdout",
     "text": [
      "f(x)' : \n"
     ]
    },
    {
     "output_type": "display_data",
     "data": {
      "text/latex": [
       "$\\displaystyle 4 x$"
      ],
      "text/plain": [
       "4*x"
      ]
     },
     "metadata": {}
    },
    {
     "output_type": "stream",
     "name": "stdout",
     "text": [
      "g(x)' : \n"
     ]
    },
    {
     "output_type": "display_data",
     "data": {
      "text/latex": [
       "$\\displaystyle - 12 x^{3} + 12 x^{2}$"
      ],
      "text/plain": [
       "-12*x**3 + 12*x**2"
      ]
     },
     "metadata": {}
    },
    {
     "output_type": "stream",
     "name": "stdout",
     "text": [
      "( f(x)*g(x) )' : \n"
     ]
    },
    {
     "output_type": "display_data",
     "data": {
      "text/latex": [
       "$\\displaystyle 2 x^{2} \\left(- 12 x^{3} + 12 x^{2}\\right) + 4 x \\left(- 3 x^{4} + 4 x^{3}\\right)$"
      ],
      "text/plain": [
       "2*x**2*(-12*x**3 + 12*x**2) + 4*x*(-3*x**4 + 4*x**3)"
      ]
     },
     "metadata": {}
    },
    {
     "output_type": "stream",
     "name": "stdout",
     "text": [
      "( f(x)*g(x) )' : \n"
     ]
    },
    {
     "output_type": "display_data",
     "data": {
      "text/latex": [
       "$\\displaystyle 2 x^{2} \\left(- 12 x^{3} + 12 x^{2}\\right) + 4 x \\left(- 3 x^{4} + 4 x^{3}\\right)$"
      ],
      "text/plain": [
       "2*x**2*(-12*x**3 + 12*x**2) + 4*x*(-3*x**4 + 4*x**3)"
      ]
     },
     "metadata": {}
    }
   ],
   "metadata": {}
  },
  {
   "cell_type": "markdown",
   "source": [
    "## **Chain rule**"
   ],
   "metadata": {}
  },
  {
   "cell_type": "code",
   "execution_count": 13,
   "source": [
    "gx = x**2 + 4*x**3\r\n",
    "fx = ( gx )**5\r\n",
    "\r\n",
    "print('f(x) : ')\r\n",
    "display(fx)\r\n",
    "\r\n",
    "print(\"f(x)' : \")\r\n",
    "display(sym.diff(fx))"
   ],
   "outputs": [
    {
     "output_type": "stream",
     "name": "stdout",
     "text": [
      "f(x) : \n"
     ]
    },
    {
     "output_type": "display_data",
     "data": {
      "text/latex": [
       "$\\displaystyle \\left(4 x^{3} + x^{2}\\right)^{5}$"
      ],
      "text/plain": [
       "(4*x**3 + x**2)**5"
      ]
     },
     "metadata": {}
    },
    {
     "output_type": "stream",
     "name": "stdout",
     "text": [
      "f(x)' : \n"
     ]
    },
    {
     "output_type": "display_data",
     "data": {
      "text/latex": [
       "$\\displaystyle \\left(60 x^{2} + 10 x\\right) \\left(4 x^{3} + x^{2}\\right)^{4}$"
      ],
      "text/plain": [
       "(60*x**2 + 10*x)*(4*x**3 + x**2)**4"
      ]
     },
     "metadata": {}
    }
   ],
   "metadata": {}
  }
 ],
 "metadata": {
  "orig_nbformat": 4,
  "language_info": {
   "name": "python",
   "version": "3.8.5",
   "mimetype": "text/x-python",
   "codemirror_mode": {
    "name": "ipython",
    "version": 3
   },
   "pygments_lexer": "ipython3",
   "nbconvert_exporter": "python",
   "file_extension": ".py"
  },
  "kernelspec": {
   "name": "python3",
   "display_name": "Python 3.8.5 64-bit ('base': conda)"
  },
  "interpreter": {
   "hash": "293c111297a61481508202fcd690d673b0775ece2d2d867b62b8842b676a9a30"
  }
 },
 "nbformat": 4,
 "nbformat_minor": 2
}