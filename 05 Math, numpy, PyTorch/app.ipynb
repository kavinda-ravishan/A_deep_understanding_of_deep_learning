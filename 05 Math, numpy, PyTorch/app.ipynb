{
 "cells": [
  {
   "cell_type": "markdown",
   "source": [
    "---\r\n",
    "# **Vector and matrix transpose**\r\n",
    "---"
   ],
   "metadata": {}
  },
  {
   "cell_type": "markdown",
   "source": [
    "## Import"
   ],
   "metadata": {}
  },
  {
   "cell_type": "code",
   "execution_count": 21,
   "source": [
    "import torch\r\n",
    "torch. __version__"
   ],
   "outputs": [
    {
     "output_type": "execute_result",
     "data": {
      "text/plain": [
       "'1.8.1'"
      ]
     },
     "metadata": {},
     "execution_count": 21
    }
   ],
   "metadata": {}
  },
  {
   "cell_type": "code",
   "execution_count": 22,
   "source": [
    "import numpy as np"
   ],
   "outputs": [],
   "metadata": {}
  },
  {
   "cell_type": "markdown",
   "source": [
    "## Numpy"
   ],
   "metadata": {}
  },
  {
   "cell_type": "code",
   "execution_count": 27,
   "source": [
    "nv = np.array([[1, 2, 3]])\r\n",
    "\r\n",
    "nvT = nv.T\r\n",
    "\r\n",
    "print(nv, end='\\n\\n')\r\n",
    "print(nvT, end='\\n\\n')\r\n",
    "print(nvT.T, end='\\n\\n')"
   ],
   "outputs": [
    {
     "output_type": "stream",
     "name": "stdout",
     "text": [
      "[[1 2 3]]\n",
      "\n",
      "[[1]\n",
      " [2]\n",
      " [3]]\n",
      "\n",
      "[[1 2 3]]\n",
      "\n"
     ]
    }
   ],
   "metadata": {}
  },
  {
   "cell_type": "code",
   "execution_count": 31,
   "source": [
    "nM = np.array(\r\n",
    "    [\r\n",
    "        [1, 2, 3],\r\n",
    "        [4, 5, 6]\r\n",
    "    ]\r\n",
    ")\r\n",
    "\r\n",
    "nMT = nM.T\r\n",
    "\r\n",
    "print(nM, end='\\n\\n')\r\n",
    "print(nMT, end='\\n\\n')\r\n",
    "print(nMT.T, end='\\n\\n')"
   ],
   "outputs": [
    {
     "output_type": "stream",
     "name": "stdout",
     "text": [
      "[[1 2 3]\n",
      " [4 5 6]]\n",
      "\n",
      "[[1 4]\n",
      " [2 5]\n",
      " [3 6]]\n",
      "\n",
      "[[1 2 3]\n",
      " [4 5 6]]\n",
      "\n"
     ]
    }
   ],
   "metadata": {}
  },
  {
   "cell_type": "markdown",
   "source": [
    "## Pytorch"
   ],
   "metadata": {}
  },
  {
   "cell_type": "code",
   "execution_count": 32,
   "source": [
    "tv = torch.Tensor([[1, 2, 3]])\r\n",
    "\r\n",
    "tvT = tv.T\r\n",
    "\r\n",
    "print(tv, end='\\n\\n')\r\n",
    "print(tvT, end='\\n\\n')\r\n",
    "print(tvT.T, end='\\n\\n')"
   ],
   "outputs": [
    {
     "output_type": "stream",
     "name": "stdout",
     "text": [
      "tensor([[1., 2., 3.]])\n",
      "\n",
      "tensor([[1.],\n",
      "        [2.],\n",
      "        [3.]])\n",
      "\n",
      "tensor([[1., 2., 3.]])\n",
      "\n"
     ]
    }
   ],
   "metadata": {}
  },
  {
   "cell_type": "code",
   "execution_count": 33,
   "source": [
    "tM = torch.Tensor(\r\n",
    "    [\r\n",
    "        [1, 2, 3],\r\n",
    "        [4, 5, 6]\r\n",
    "    ]\r\n",
    ")\r\n",
    "\r\n",
    "tMT = tM.T\r\n",
    "\r\n",
    "print(tM, end='\\n\\n')\r\n",
    "print(tMT, end='\\n\\n')\r\n",
    "print(tMT.T, end='\\n\\n')"
   ],
   "outputs": [
    {
     "output_type": "stream",
     "name": "stdout",
     "text": [
      "tensor([[1., 2., 3.],\n",
      "        [4., 5., 6.]])\n",
      "\n",
      "tensor([[1., 4.],\n",
      "        [2., 5.],\n",
      "        [3., 6.]])\n",
      "\n",
      "tensor([[1., 2., 3.],\n",
      "        [4., 5., 6.]])\n",
      "\n"
     ]
    }
   ],
   "metadata": {}
  },
  {
   "cell_type": "markdown",
   "source": [
    "## Data types"
   ],
   "metadata": {}
  },
  {
   "cell_type": "code",
   "execution_count": 34,
   "source": [
    "print(f'Variable nv is of type {type(nv)}')\r\n",
    "print(f'Variable nM is of type {type(nM)}')\r\n",
    "print(f'Variable tv is of type {type(tv)}')\r\n",
    "print(f'Variable tM is of type {type(tM)}')"
   ],
   "outputs": [
    {
     "output_type": "stream",
     "name": "stdout",
     "text": [
      "Variable nv is of type <class 'numpy.ndarray'>\n",
      "Variable nM is of type <class 'numpy.ndarray'>\n",
      "Variable tv is of type <class 'torch.Tensor'>\n",
      "Variable tM is of type <class 'torch.Tensor'>\n"
     ]
    }
   ],
   "metadata": {}
  },
  {
   "cell_type": "markdown",
   "source": [
    "---\r\n",
    "# **The dot product**\r\n",
    "---"
   ],
   "metadata": {}
  },
  {
   "cell_type": "code",
   "execution_count": 1,
   "source": [
    "import numpy as np\r\n",
    "import torch"
   ],
   "outputs": [],
   "metadata": {}
  },
  {
   "cell_type": "markdown",
   "source": [
    "## Numpy"
   ],
   "metadata": {}
  },
  {
   "cell_type": "code",
   "execution_count": 2,
   "source": [
    "tv1 = np.array([1, 2, 3, 4])\r\n",
    "tv2 = np.array([0, 1, 0, -1])\r\n",
    "\r\n",
    "print(np.dot(tv1, tv2))\r\n",
    "print(np.sum(tv1*tv2))"
   ],
   "outputs": [
    {
     "output_type": "stream",
     "name": "stdout",
     "text": [
      "-2\n",
      "-2\n"
     ]
    }
   ],
   "metadata": {}
  },
  {
   "cell_type": "markdown",
   "source": [
    "## PyTorch"
   ],
   "metadata": {}
  },
  {
   "cell_type": "code",
   "execution_count": 3,
   "source": [
    "tv1 = torch.tensor([1, 2, 3, 4])\r\n",
    "tv2 = torch.tensor([0, 1, 0, -1])\r\n",
    "\r\n",
    "print(torch.dot(tv1, tv2))\r\n",
    "print(torch.sum(tv1*tv2))"
   ],
   "outputs": [
    {
     "output_type": "stream",
     "name": "stdout",
     "text": [
      "tensor(-2)\n",
      "tensor(-2)\n"
     ]
    }
   ],
   "metadata": {}
  },
  {
   "cell_type": "markdown",
   "source": [
    "---\r\n",
    "# **Matrix multiplication**\r\n",
    "---"
   ],
   "metadata": {}
  },
  {
   "cell_type": "code",
   "execution_count": 4,
   "source": [
    "import numpy as np\r\n",
    "import torch"
   ],
   "outputs": [],
   "metadata": {}
  },
  {
   "cell_type": "markdown",
   "source": [
    "## Numpy"
   ],
   "metadata": {}
  },
  {
   "cell_type": "code",
   "execution_count": 9,
   "source": [
    "# np.matmul(A, B) == A@B\r\n",
    "\r\n",
    "A = np.random.randn(3,4)\r\n",
    "B = np.random.randn(4,5)\r\n",
    "C = np.random.randn(3,7)\r\n",
    "\r\n",
    "print(np.round(A@B, 2), end='\\n\\n')\r\n",
    "print(np.round(C.T@A, 2))"
   ],
   "outputs": [
    {
     "output_type": "stream",
     "name": "stdout",
     "text": [
      "[[-0.22  1.31 -0.31  1.07  2.45]\n",
      " [-0.88 -1.36  3.72  2.11 -2.83]\n",
      " [ 0.39  0.96 -0.67  1.12  2.87]]\n",
      "\n",
      "[[-2.33 -0.19 -1.24  0.17]\n",
      " [-1.01 -0.36 -0.48  0.02]\n",
      " [ 0.26  1.12  1.05 -0.09]\n",
      " [ 0.56  0.04  0.4  -0.07]\n",
      " [-2.83  1.91  0.14  0.1 ]\n",
      " [-2.77 -1.41 -2.15  0.21]\n",
      " [ 2.6  -0.1   0.52 -0.02]]\n"
     ]
    }
   ],
   "metadata": {}
  },
  {
   "cell_type": "markdown",
   "source": [
    "## PyTorch"
   ],
   "metadata": {}
  },
  {
   "cell_type": "code",
   "execution_count": 15,
   "source": [
    "A = torch.randn(3,4)\r\n",
    "B = torch.randn(4,5)\r\n",
    "C1 = np.random.randn(4,7)\r\n",
    "C2 = torch.tensor(C1, dtype=torch.float)\r\n",
    "\r\n",
    "print(np.round(A@B), end='\\n\\n')\r\n",
    "print(np.round(A@C1), end='\\n\\n')\r\n",
    "print(np.round(A@C2))"
   ],
   "outputs": [
    {
     "output_type": "stream",
     "name": "stdout",
     "text": [
      "tensor([[ 1., -2.,  1., -2.,  1.],\n",
      "        [ 2., -2.,  1., -2., -1.],\n",
      "        [-2.,  1.,  1., -2.,  0.]])\n",
      "\n",
      "tensor([[-0.,  2.,  1.,  2., -3.,  1.,  3.],\n",
      "        [-1.,  1.,  2.,  3.,  2.,  1.,  1.],\n",
      "        [ 1., -2., -2., -2.,  1., -1.,  0.]], dtype=torch.float64)\n",
      "\n",
      "tensor([[-0.,  2.,  1.,  2., -3.,  1.,  3.],\n",
      "        [-1.,  1.,  2.,  3.,  2.,  1.,  1.],\n",
      "        [ 1., -2., -2., -2.,  1., -1.,  0.]])\n"
     ]
    }
   ],
   "metadata": {}
  },
  {
   "cell_type": "markdown",
   "source": [
    "---\r\n",
    "# **Softmax**\r\n",
    "---"
   ],
   "metadata": {}
  },
  {
   "cell_type": "code",
   "execution_count": 2,
   "source": [
    "import numpy as np\r\n",
    "import torch\r\n",
    "import torch.nn as nn\r\n",
    "import matplotlib.pyplot as plt"
   ],
   "outputs": [],
   "metadata": {}
  },
  {
   "cell_type": "markdown",
   "source": [
    "## Numpy"
   ],
   "metadata": {}
  },
  {
   "cell_type": "code",
   "execution_count": 41,
   "source": [
    "z = [1, 2, 3]\r\n",
    "\r\n",
    "num = np.exp(z)\r\n",
    "den = np.sum(np.exp(z))\r\n",
    "sigma = num / den\r\n",
    "\r\n",
    "print(sigma)\r\n",
    "print(np.sum(sigma))"
   ],
   "outputs": [
    {
     "output_type": "stream",
     "name": "stdout",
     "text": [
      "[0.09003057 0.24472847 0.66524096]\n",
      "1.0\n"
     ]
    }
   ],
   "metadata": {}
  },
  {
   "cell_type": "code",
   "execution_count": 42,
   "source": [
    "z = np.random.randint(-5, 15, 25)\r\n",
    "\r\n",
    "num = np.exp(z)\r\n",
    "den = np.sum(np.exp(z))\r\n",
    "sigma1 = num / den"
   ],
   "outputs": [],
   "metadata": {}
  },
  {
   "cell_type": "code",
   "execution_count": 43,
   "source": [
    "plt.plot(z, sigma1, 'ko')\r\n",
    "plt.xlabel('Original number (z)')\r\n",
    "plt.ylabel('Softmax applied $\\sigma$ log')\r\n",
    "plt.title('$\\sum\\sigma$ = %g' %np.sum(sigma))\r\n",
    "plt.yscale('log')\r\n",
    "plt.show()"
   ],
   "outputs": [
    {
     "output_type": "display_data",
     "data": {
      "image/png": "[encoded data removed]",
      "text/plain": [
       "<Figure size 432x288 with 1 Axes>"
      ]
     },
     "metadata": {
      "needs_background": "light"
     }
    }
   ],
   "metadata": {}
  },
  {
   "cell_type": "markdown",
   "source": [
    "## PyTorch"
   ],
   "metadata": {}
  },
  {
   "cell_type": "code",
   "execution_count": 45,
   "source": [
    "z = [1, 2, 3]\r\n",
    "\r\n",
    "softmax = nn.Softmax(dim=0)\r\n",
    "\r\n",
    "sigmaT = softmax( torch.Tensor(z) )\r\n",
    "\r\n",
    "print(sigmaT)"
   ],
   "outputs": [
    {
     "output_type": "stream",
     "name": "stdout",
     "text": [
      "tensor([0.0900, 0.2447, 0.6652])\n"
     ]
    }
   ],
   "metadata": {}
  },
  {
   "cell_type": "markdown",
   "source": [
    "## Compare results"
   ],
   "metadata": {}
  },
  {
   "cell_type": "code",
   "execution_count": 50,
   "source": [
    "r = np.corrcoef(sigma, sigmaT)[0, 1]\r\n",
    "\r\n",
    "print(f'The two methods correlate at r = {r}')"
   ],
   "outputs": [
    {
     "output_type": "stream",
     "name": "stdout",
     "text": [
      "The two methods correlate at r = 1.0\n"
     ]
    }
   ],
   "metadata": {}
  }
 ],
 "metadata": {
  "orig_nbformat": 4,
  "language_info": {
   "name": "python",
   "version": "3.8.5",
   "mimetype": "text/x-python",
   "codemirror_mode": {
    "name": "ipython",
    "version": 3
   },
   "pygments_lexer": "ipython3",
   "nbconvert_exporter": "python",
   "file_extension": ".py"
  },
  "kernelspec": {
   "name": "python3",
   "display_name": "Python 3.8.5 64-bit ('base': conda)"
  },
  "interpreter": {
   "hash": "293c111297a61481508202fcd690d673b0775ece2d2d867b62b8842b676a9a30"
  }
 },
 "nbformat": 4,
 "nbformat_minor": 2
}