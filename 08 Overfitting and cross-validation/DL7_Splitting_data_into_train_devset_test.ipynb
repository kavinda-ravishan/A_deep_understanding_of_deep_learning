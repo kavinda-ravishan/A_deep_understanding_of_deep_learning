{
 "cells": [
  {
   "cell_type": "code",
   "execution_count": 1,
   "metadata": {},
   "outputs": [],
   "source": [
    "import numpy as np\n",
    "from sklearn.model_selection import train_test_split"
   ]
  },
  {
   "cell_type": "code",
   "execution_count": 2,
   "metadata": {},
   "outputs": [
    {
     "name": "stdout",
     "output_type": "stream",
     "text": [
      "[[ 11  12  13  14]\n",
      " [ 21  22  23  24]\n",
      " [ 31  32  33  34]\n",
      " [ 41  42  43  44]\n",
      " [ 51  52  53  54]\n",
      " [ 61  62  63  64]\n",
      " [ 71  72  73  74]\n",
      " [ 81  82  83  84]\n",
      " [ 91  92  93  94]\n",
      " [101 102 103 104]]\n",
      " \n",
      "[False False False False False  True  True  True  True  True]\n"
     ]
    }
   ],
   "source": [
    "fakedata = np.tile(np.array([1,2,3,4]),(10,1)) + np.tile(10*np.arange(1,11),(4,1)).T\n",
    "fakelabels = np.arange(10)>4\n",
    "print(fakedata), print(' ')\n",
    "print(fakelabels)"
   ]
  },
  {
   "cell_type": "markdown",
   "metadata": {},
   "source": [
    "## Sklearn"
   ]
  },
  {
   "cell_type": "code",
   "execution_count": 7,
   "metadata": {},
   "outputs": [
    {
     "name": "stdout",
     "output_type": "stream",
     "text": [
      "Split : 0.5\n"
     ]
    }
   ],
   "source": [
    "partitions = [.8,.1,.1]\n",
    "\n",
    "train_data,testTMP_data, train_labels,testTMP_labels = \\\n",
    "                   train_test_split(fakedata, fakelabels, train_size=partitions[0])\n",
    "\n",
    "split = partitions[1] / np.sum(partitions[1:])\n",
    "print(f'Split : {split}')\n",
    "\n",
    "devset_data,test_data, devset_labels,test_labels = \\\n",
    "              train_test_split(testTMP_data, testTMP_labels, train_size=split)"
   ]
  },
  {
   "cell_type": "code",
   "execution_count": 8,
   "metadata": {},
   "outputs": [
    {
     "name": "stdout",
     "output_type": "stream",
     "text": [
      "Training data size: (8, 4)\n",
      "Devset data size: (1, 4)\n",
      "Test data size: (1, 4)\n",
      " \n",
      "Training data: \n",
      "[[ 91  92  93  94]\n",
      " [101 102 103 104]\n",
      " [ 51  52  53  54]\n",
      " [ 61  62  63  64]\n",
      " [ 71  72  73  74]\n",
      " [ 31  32  33  34]\n",
      " [ 21  22  23  24]\n",
      " [ 11  12  13  14]]\n",
      " \n",
      "Devset data: \n",
      "[[81 82 83 84]]\n",
      " \n",
      "Test data: \n",
      "[[41 42 43 44]]\n"
     ]
    }
   ],
   "source": [
    "# print out the sizes\n",
    "print('Training data size: ' + str(train_data.shape))\n",
    "print('Devset data size: '   + str(devset_data.shape))\n",
    "print('Test data size: '     + str(test_data.shape))\n",
    "print(' ')\n",
    "\n",
    "# print out the train/test data\n",
    "print('Training data: ')\n",
    "print(train_data)\n",
    "print(' ')\n",
    "\n",
    "print('Devset data: ')\n",
    "print(devset_data)\n",
    "print(' ')\n",
    "\n",
    "print('Test data: ')\n",
    "print(test_data)"
   ]
  },
  {
   "cell_type": "markdown",
   "metadata": {},
   "source": [
    "## Numpy"
   ]
  },
  {
   "cell_type": "code",
   "execution_count": 9,
   "metadata": {},
   "outputs": [
    {
     "name": "stdout",
     "output_type": "stream",
     "text": [
      "Partition proportions:\n",
      "[0.8 0.1 0.1]\n",
      " \n",
      "Partition boundaries:\n",
      "[ 8  9 10]\n",
      " \n",
      "Randomized data indices:\n",
      "[9 3 7 8 4 0 6 5 1 2]\n",
      " \n"
     ]
    }
   ],
   "source": [
    "# partition sizes in proportion\n",
    "partitions = np.array([.8,.1,.1])\n",
    "print('Partition proportions:')\n",
    "print(partitions)\n",
    "print(' ')\n",
    "\n",
    "# convert those into integers\n",
    "partitionBnd = np.cumsum(partitions*len(fakelabels)).astype(int)\n",
    "print('Partition boundaries:')\n",
    "print(partitionBnd)\n",
    "print(' ')\n",
    "\n",
    "\n",
    "# random indices\n",
    "randindices = np.random.permutation(range(len(fakelabels)))\n",
    "print('Randomized data indices:')\n",
    "print(randindices)\n",
    "print(' ')"
   ]
  },
  {
   "cell_type": "code",
   "execution_count": 10,
   "metadata": {},
   "outputs": [],
   "source": [
    "# select rows for the training data\n",
    "train_dataN   = fakedata[randindices[:partitionBnd[0]],:]\n",
    "train_labelsN = fakelabels[randindices[:partitionBnd[0]]]\n",
    "\n",
    "# select rows for the devset data\n",
    "devset_dataN   = fakedata[randindices[partitionBnd[0]:partitionBnd[1]],:]\n",
    "devset_labelsN = fakelabels[randindices[partitionBnd[0]:partitionBnd[1]]]\n",
    "\n",
    "# select rows for the test data\n",
    "test_dataN   = fakedata[randindices[partitionBnd[1]:],:]\n",
    "test_labelsN = fakelabels[randindices[partitionBnd[1]:]]"
   ]
  },
  {
   "cell_type": "code",
   "execution_count": 11,
   "metadata": {},
   "outputs": [
    {
     "name": "stdout",
     "output_type": "stream",
     "text": [
      "Training data size: (8, 4)\n",
      "Devset size: (1, 4)\n",
      "Test data size: (1, 4)\n",
      " \n",
      "Training data: \n",
      "[[101 102 103 104]\n",
      " [ 41  42  43  44]\n",
      " [ 81  82  83  84]\n",
      " [ 91  92  93  94]\n",
      " [ 51  52  53  54]\n",
      " [ 11  12  13  14]\n",
      " [ 71  72  73  74]\n",
      " [ 61  62  63  64]]\n",
      " \n",
      "Devset data: \n",
      "[[21 22 23 24]]\n",
      " \n",
      "Test data: \n",
      "[[31 32 33 34]]\n"
     ]
    }
   ],
   "source": [
    "# print out the sizes\n",
    "print('Training data size: ' + str(train_dataN.shape))\n",
    "print('Devset size: '        + str(devset_dataN.shape))\n",
    "print('Test data size: '     + str(test_dataN.shape))\n",
    "print(' ')\n",
    "\n",
    "# print out the train/test data\n",
    "print('Training data: ')\n",
    "print(train_dataN)\n",
    "print(' ')\n",
    "\n",
    "print('Devset data: ')\n",
    "print(devset_dataN)\n",
    "print(' ')\n",
    "\n",
    "print('Test data: ')\n",
    "print(test_dataN)"
   ]
  }
 ],
 "metadata": {
  "interpreter": {
   "hash": "293c111297a61481508202fcd690d673b0775ece2d2d867b62b8842b676a9a30"
  },
  "kernelspec": {
   "display_name": "Python 3.8.8 64-bit ('base': conda)",
   "language": "python",
   "name": "python3"
  },
  "language_info": {
   "codemirror_mode": {
    "name": "ipython",
    "version": 3
   },
   "file_extension": ".py",
   "mimetype": "text/x-python",
   "name": "python",
   "nbconvert_exporter": "python",
   "pygments_lexer": "ipython3",
   "version": "3.8.8"
  },
  "orig_nbformat": 4
 },
 "nbformat": 4,
 "nbformat_minor": 2
}
