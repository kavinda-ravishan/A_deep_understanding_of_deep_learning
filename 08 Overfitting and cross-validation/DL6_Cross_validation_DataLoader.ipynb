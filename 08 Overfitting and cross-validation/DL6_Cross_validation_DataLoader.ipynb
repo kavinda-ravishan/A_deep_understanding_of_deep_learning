{
 "cells": [
  {
   "cell_type": "code",
   "execution_count": 14,
   "metadata": {},
   "outputs": [],
   "source": [
    "import torch\n",
    "import torch.nn as nn\n",
    "import numpy as np\n",
    "import matplotlib.pyplot as plt\n",
    "from sklearn.model_selection import train_test_split\n",
    "from torch.utils.data import DataLoader, TensorDataset"
   ]
  },
  {
   "cell_type": "code",
   "execution_count": 2,
   "metadata": {},
   "outputs": [],
   "source": [
    "import seaborn as sns\n",
    "iris = sns.load_dataset('iris')\n",
    "\n",
    "data = torch.tensor( iris[iris.columns[0:4]].values ).float()\n",
    "\n",
    "labels = torch.zeros(len(data), dtype=torch.long)\n",
    "\n",
    "labels[iris.species == 'setosa'] = 0\n",
    "labels[iris.species == 'versicolor'] = 1\n",
    "labels[iris.species == 'virginica'] = 2"
   ]
  },
  {
   "cell_type": "markdown",
   "metadata": {},
   "source": [
    "## create our fake dataset"
   ]
  },
  {
   "cell_type": "code",
   "execution_count": 3,
   "metadata": {},
   "outputs": [
    {
     "name": "stdout",
     "output_type": "stream",
     "text": [
      "[[ 11  12  13  14]\n",
      " [ 21  22  23  24]\n",
      " [ 31  32  33  34]\n",
      " [ 41  42  43  44]\n",
      " [ 51  52  53  54]\n",
      " [ 61  62  63  64]\n",
      " [ 71  72  73  74]\n",
      " [ 81  82  83  84]\n",
      " [ 91  92  93  94]\n",
      " [101 102 103 104]]\n",
      " \n",
      "[False False False False False  True  True  True  True  True]\n"
     ]
    }
   ],
   "source": [
    "fakedata = np.tile(np.array([1,2,3,4]),(10,1)) + np.tile(10*np.arange(1,11),(4,1)).T\n",
    "fakelabels = np.arange(10)>4\n",
    "print(fakedata), print(' ')\n",
    "print(fakelabels)"
   ]
  },
  {
   "cell_type": "code",
   "execution_count": 5,
   "metadata": {},
   "outputs": [
    {
     "name": "stdout",
     "output_type": "stream",
     "text": [
      "<torch.utils.data.dataloader.DataLoader object at 0x00000183CCABF310>\n",
      "1\n"
     ]
    }
   ],
   "source": [
    "fakedataLdr = DataLoader(fakedata, shuffle=True)\n",
    "print( fakedataLdr )\n",
    "print( fakedataLdr.batch_size )"
   ]
  },
  {
   "cell_type": "code",
   "execution_count": 6,
   "metadata": {},
   "outputs": [
    {
     "name": "stdout",
     "output_type": "stream",
     "text": [
      "0 tensor([[11, 12, 13, 14]], dtype=torch.int32) torch.Size([1, 4])\n",
      "1 tensor([[31, 32, 33, 34]], dtype=torch.int32) torch.Size([1, 4])\n",
      "2 tensor([[51, 52, 53, 54]], dtype=torch.int32) torch.Size([1, 4])\n",
      "3 tensor([[61, 62, 63, 64]], dtype=torch.int32) torch.Size([1, 4])\n",
      "4 tensor([[91, 92, 93, 94]], dtype=torch.int32) torch.Size([1, 4])\n",
      "5 tensor([[101, 102, 103, 104]], dtype=torch.int32) torch.Size([1, 4])\n",
      "6 tensor([[71, 72, 73, 74]], dtype=torch.int32) torch.Size([1, 4])\n",
      "7 tensor([[21, 22, 23, 24]], dtype=torch.int32) torch.Size([1, 4])\n",
      "8 tensor([[81, 82, 83, 84]], dtype=torch.int32) torch.Size([1, 4])\n",
      "9 tensor([[41, 42, 43, 44]], dtype=torch.int32) torch.Size([1, 4])\n"
     ]
    }
   ],
   "source": [
    "# iterate through the data\n",
    "for i,oneSample in enumerate(fakedataLdr):\n",
    "  print(i,oneSample,oneSample.shape)\n",
    "\n",
    "# but where are the labels??"
   ]
  },
  {
   "cell_type": "code",
   "execution_count": 11,
   "metadata": {},
   "outputs": [
    {
     "name": "stdout",
     "output_type": "stream",
     "text": [
      "(tensor([[ 11.,  12.,  13.,  14.],\n",
      "        [ 21.,  22.,  23.,  24.],\n",
      "        [ 31.,  32.,  33.,  34.],\n",
      "        [ 41.,  42.,  43.,  44.],\n",
      "        [ 51.,  52.,  53.,  54.],\n",
      "        [ 61.,  62.,  63.,  64.],\n",
      "        [ 71.,  72.,  73.,  74.],\n",
      "        [ 81.,  82.,  83.,  84.],\n",
      "        [ 91.,  92.,  93.,  94.],\n",
      "        [101., 102., 103., 104.]]), tensor([0., 0., 0., 0., 0., 1., 1., 1., 1., 1.]))\n"
     ]
    }
   ],
   "source": [
    "# we need to create a Dataset that contains the data and labels\n",
    "fakeDataset = TensorDataset(torch.Tensor(fakedata),torch.Tensor(fakelabels))\n",
    "print( fakeDataset.tensors )"
   ]
  },
  {
   "cell_type": "code",
   "execution_count": 12,
   "metadata": {},
   "outputs": [
    {
     "name": "stdout",
     "output_type": "stream",
     "text": [
      "tensor([[ 11.,  12.,  13.,  14.],\n",
      "        [ 21.,  22.,  23.,  24.],\n",
      "        [ 31.,  32.,  33.,  34.],\n",
      "        [ 41.,  42.,  43.,  44.],\n",
      "        [ 51.,  52.,  53.,  54.],\n",
      "        [ 61.,  62.,  63.,  64.],\n",
      "        [ 71.,  72.,  73.,  74.],\n",
      "        [ 81.,  82.,  83.,  84.],\n",
      "        [ 91.,  92.,  93.,  94.],\n",
      "        [101., 102., 103., 104.]])\n",
      "tensor([0., 0., 0., 0., 0., 1., 1., 1., 1., 1.])\n"
     ]
    }
   ],
   "source": [
    "print( fakeDataset.tensors[0] )\n",
    "print( fakeDataset.tensors[1] )"
   ]
  },
  {
   "cell_type": "code",
   "execution_count": 13,
   "metadata": {},
   "outputs": [
    {
     "name": "stdout",
     "output_type": "stream",
     "text": [
      "tensor([[71., 72., 73., 74.]]) tensor([1.])\n",
      "tensor([[51., 52., 53., 54.]]) tensor([0.])\n",
      "tensor([[61., 62., 63., 64.]]) tensor([1.])\n",
      "tensor([[31., 32., 33., 34.]]) tensor([0.])\n",
      "tensor([[81., 82., 83., 84.]]) tensor([1.])\n",
      "tensor([[41., 42., 43., 44.]]) tensor([0.])\n",
      "tensor([[101., 102., 103., 104.]]) tensor([1.])\n",
      "tensor([[91., 92., 93., 94.]]) tensor([1.])\n",
      "tensor([[11., 12., 13., 14.]]) tensor([0.])\n",
      "tensor([[21., 22., 23., 24.]]) tensor([0.])\n"
     ]
    }
   ],
   "source": [
    "# then create another DataLoader\n",
    "fakedataLdr = DataLoader(fakeDataset, shuffle=True)\n",
    "\n",
    "# iterate through the data\n",
    "for dat,lab in fakedataLdr:\n",
    "  print(dat,lab)"
   ]
  },
  {
   "cell_type": "markdown",
   "metadata": {},
   "source": [
    "## Create the model"
   ]
  },
  {
   "cell_type": "code",
   "execution_count": 34,
   "metadata": {},
   "outputs": [],
   "source": [
    "# use scikitlearn to split the data\n",
    "train_data,test_data, train_labels,test_labels = \\\n",
    "                              train_test_split(data, labels, train_size=.8)\n",
    "\n",
    "\n",
    "# then convert them into PyTorch Datasets (note: already converted to tensors)\n",
    "train_data = torch.utils.data.TensorDataset(train_data,train_labels)\n",
    "test_data  = torch.utils.data.TensorDataset(test_data,test_labels)\n",
    "\n",
    "\n",
    "# finally, translate into dataloader objects\n",
    "train_loader = DataLoader(train_data, shuffle=True, batch_size=12)\n",
    "test_loader  = DataLoader(test_data,batch_size=test_data.tensors[0].shape[0])"
   ]
  },
  {
   "cell_type": "code",
   "execution_count": 41,
   "metadata": {},
   "outputs": [
    {
     "name": "stdout",
     "output_type": "stream",
     "text": [
      "torch.Size([12, 4]) torch.Size([12])\n",
      "torch.Size([12, 4]) torch.Size([12])\n",
      "torch.Size([12, 4]) torch.Size([12])\n",
      "torch.Size([12, 4]) torch.Size([12])\n",
      "torch.Size([12, 4]) torch.Size([12])\n",
      "torch.Size([12, 4]) torch.Size([12])\n",
      "torch.Size([12, 4]) torch.Size([12])\n",
      "torch.Size([12, 4]) torch.Size([12])\n",
      "torch.Size([12, 4]) torch.Size([12])\n",
      "torch.Size([12, 4]) torch.Size([12])\n"
     ]
    }
   ],
   "source": [
    "for batch, label in train_loader:\n",
    "  print(batch.size(), label.size())"
   ]
  },
  {
   "cell_type": "code",
   "execution_count": 42,
   "metadata": {},
   "outputs": [
    {
     "data": {
      "text/plain": [
       "(tensor([[4.9000, 2.4000, 3.3000, 1.0000],\n",
       "         [6.4000, 3.1000, 5.5000, 1.8000],\n",
       "         [6.4000, 3.2000, 4.5000, 1.5000],\n",
       "         [7.1000, 3.0000, 5.9000, 2.1000],\n",
       "         [5.4000, 3.0000, 4.5000, 1.5000],\n",
       "         [6.0000, 3.4000, 4.5000, 1.6000],\n",
       "         [5.7000, 2.9000, 4.2000, 1.3000],\n",
       "         [5.7000, 2.5000, 5.0000, 2.0000],\n",
       "         [5.6000, 2.7000, 4.2000, 1.3000],\n",
       "         [5.5000, 3.5000, 1.3000, 0.2000],\n",
       "         [6.2000, 2.8000, 4.8000, 1.8000],\n",
       "         [6.8000, 3.2000, 5.9000, 2.3000]]),\n",
       " tensor([1, 2, 1, 2, 1, 1, 1, 2, 1, 0, 2, 2]))"
      ]
     },
     "execution_count": 42,
     "metadata": {},
     "output_type": "execute_result"
    }
   ],
   "source": [
    "batch, label"
   ]
  },
  {
   "cell_type": "code",
   "execution_count": 43,
   "metadata": {},
   "outputs": [
    {
     "name": "stdout",
     "output_type": "stream",
     "text": [
      "torch.Size([30, 4]) torch.Size([30])\n"
     ]
    }
   ],
   "source": [
    "for batch, label in test_loader:\n",
    "  print(batch.size(), label.size())"
   ]
  },
  {
   "cell_type": "code",
   "execution_count": 44,
   "metadata": {},
   "outputs": [
    {
     "data": {
      "text/plain": [
       "(tensor([[5.1000, 3.5000, 1.4000, 0.2000],\n",
       "         [4.7000, 3.2000, 1.3000, 0.2000],\n",
       "         [5.9000, 3.0000, 4.2000, 1.5000],\n",
       "         [6.7000, 3.0000, 5.0000, 1.7000],\n",
       "         [6.5000, 3.0000, 5.8000, 2.2000],\n",
       "         [6.4000, 2.7000, 5.3000, 1.9000],\n",
       "         [4.9000, 3.1000, 1.5000, 0.1000],\n",
       "         [4.8000, 3.0000, 1.4000, 0.3000],\n",
       "         [6.0000, 2.2000, 5.0000, 1.5000],\n",
       "         [5.2000, 4.1000, 1.5000, 0.1000],\n",
       "         [5.1000, 3.8000, 1.6000, 0.2000],\n",
       "         [5.2000, 2.7000, 3.9000, 1.4000],\n",
       "         [5.0000, 2.0000, 3.5000, 1.0000],\n",
       "         [7.2000, 3.0000, 5.8000, 1.6000],\n",
       "         [5.0000, 3.4000, 1.6000, 0.4000],\n",
       "         [4.6000, 3.2000, 1.4000, 0.2000],\n",
       "         [4.4000, 3.0000, 1.3000, 0.2000],\n",
       "         [6.9000, 3.1000, 5.4000, 2.1000],\n",
       "         [7.7000, 2.6000, 6.9000, 2.3000],\n",
       "         [5.0000, 3.5000, 1.6000, 0.6000],\n",
       "         [4.5000, 2.3000, 1.3000, 0.3000],\n",
       "         [6.6000, 3.0000, 4.4000, 1.4000],\n",
       "         [6.0000, 2.2000, 4.0000, 1.0000],\n",
       "         [5.1000, 2.5000, 3.0000, 1.1000],\n",
       "         [6.1000, 2.6000, 5.6000, 1.4000],\n",
       "         [5.5000, 2.4000, 3.8000, 1.1000],\n",
       "         [7.7000, 3.0000, 6.1000, 2.3000],\n",
       "         [5.4000, 3.4000, 1.5000, 0.4000],\n",
       "         [5.5000, 2.4000, 3.7000, 1.0000],\n",
       "         [5.9000, 3.2000, 4.8000, 1.8000]]),\n",
       " tensor([0, 0, 1, 1, 2, 2, 0, 0, 2, 0, 0, 1, 1, 2, 0, 0, 0, 2, 2, 0, 0, 1, 1, 1,\n",
       "         2, 1, 2, 0, 1, 1]))"
      ]
     },
     "execution_count": 44,
     "metadata": {},
     "output_type": "execute_result"
    }
   ],
   "source": [
    "batch, label"
   ]
  },
  {
   "cell_type": "code",
   "execution_count": 45,
   "metadata": {},
   "outputs": [],
   "source": [
    "# a function that creates the ANN model\n",
    "\n",
    "def createANewModel():\n",
    "\n",
    "  # model architecture\n",
    "  ANNiris = nn.Sequential(\n",
    "      nn.Linear(4,64),   # input layer\n",
    "      nn.ReLU(),         # activation unit\n",
    "      nn.Linear(64,64),  # hidden layer\n",
    "      nn.ReLU(),         # activation unit\n",
    "      nn.Linear(64,3),   # output units\n",
    "        )\n",
    "\n",
    "  # loss function\n",
    "  lossfun = nn.CrossEntropyLoss()\n",
    "\n",
    "  # optimizer\n",
    "  optimizer = torch.optim.SGD(ANNiris.parameters(),lr=.01)\n",
    "\n",
    "  return ANNiris,lossfun,optimizer"
   ]
  },
  {
   "cell_type": "code",
   "execution_count": 46,
   "metadata": {},
   "outputs": [],
   "source": [
    "# train the model\n",
    "\n",
    "# global parameter\n",
    "numepochs = 500\n",
    "\n",
    "def trainTheModel(ANNiris,lossfun,optimizer):\n",
    "\n",
    "  # initialize accuracies as empties (not storing losses here)\n",
    "  trainAcc = []\n",
    "  testAcc  = []\n",
    "\n",
    "  # loop over epochs\n",
    "  for _ in range(numepochs):\n",
    "\n",
    "    # loop over training data batches\n",
    "    batchAcc = []\n",
    "    for X,y in train_loader:\n",
    "\n",
    "      # forward pass and loss\n",
    "      yHat = ANNiris(X)\n",
    "      loss = lossfun(yHat,y)\n",
    "      \n",
    "      # backprop\n",
    "      optimizer.zero_grad()\n",
    "      loss.backward()\n",
    "      optimizer.step()\n",
    "\n",
    "      # compute training accuracy just for this batch\n",
    "      batchAcc.append( 100*torch.mean((torch.argmax(yHat,axis=1) == y).float()).item() )\n",
    "    # end of batch loop...\n",
    "\n",
    "\n",
    "    # now that we've trained through the batches, get their average training accuracy\n",
    "    trainAcc.append( np.mean(batchAcc) )\n",
    "\n",
    "    # test accuracy\n",
    "    X,y = next(iter(test_loader)) # extract X,y from test dataloader\n",
    "    predlabels = torch.argmax( ANNiris(X),axis=1 )\n",
    "    testAcc.append( 100*torch.mean((predlabels == y).float()).item() )\n",
    "  \n",
    "  # function output\n",
    "  return trainAcc,testAcc\n"
   ]
  },
  {
   "cell_type": "code",
   "execution_count": 47,
   "metadata": {},
   "outputs": [],
   "source": [
    "# create a model\n",
    "ANNiris,lossfun,optimizer = createANewModel()\n",
    "\n",
    "# train the model\n",
    "trainAcc,testAcc = trainTheModel(ANNiris,lossfun,optimizer)\n"
   ]
  },
  {
   "cell_type": "code",
   "execution_count": 48,
   "metadata": {},
   "outputs": [
    {
     "data": {
      "image/png": "[encoded data removed]",
      "text/plain": [
       "<Figure size 720x360 with 1 Axes>"
      ]
     },
     "metadata": {
      "needs_background": "light"
     },
     "output_type": "display_data"
    }
   ],
   "source": [
    "# plot the results\n",
    "fig = plt.figure(figsize=(10,5))\n",
    "\n",
    "plt.plot(trainAcc,'ro-')\n",
    "plt.plot(testAcc,'bs-')\n",
    "plt.xlabel('Epochs')\n",
    "plt.ylabel('Accuracy (%)')\n",
    "plt.legend(['Train','Test'])\n",
    "\n",
    "# optional zoom-in to final epochs\n",
    "# plt.xlim([300,500])\n",
    "# plt.ylim([90,100.5])\n",
    "\n",
    "plt.show()"
   ]
  }
 ],
 "metadata": {
  "interpreter": {
   "hash": "293c111297a61481508202fcd690d673b0775ece2d2d867b62b8842b676a9a30"
  },
  "kernelspec": {
   "display_name": "Python 3.8.8 64-bit ('base': conda)",
   "language": "python",
   "name": "python3"
  },
  "language_info": {
   "codemirror_mode": {
    "name": "ipython",
    "version": 3
   },
   "file_extension": ".py",
   "mimetype": "text/x-python",
   "name": "python",
   "nbconvert_exporter": "python",
   "pygments_lexer": "ipython3",
   "version": "3.8.8"
  },
  "orig_nbformat": 4
 },
 "nbformat": 4,
 "nbformat_minor": 2
}
